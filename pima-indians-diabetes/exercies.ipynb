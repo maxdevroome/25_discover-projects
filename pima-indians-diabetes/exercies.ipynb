{
 "cells": [
  {
   "cell_type": "markdown",
   "id": "353fccec",
   "metadata": {},
   "source": [
    "### Ex1"
   ]
  },
  {
   "cell_type": "code",
   "execution_count": 1,
   "id": "01a3a683",
   "metadata": {
    "vscode": {
     "languageId": "r"
    }
   },
   "outputs": [
    {
     "name": "stderr",
     "output_type": "stream",
     "text": [
      "Installing package into 'C:/Users/Max/AppData/Local/R/win-library/4.5'\n",
      "(as 'lib' is unspecified)\n",
      "\n"
     ]
    },
    {
     "name": "stdout",
     "output_type": "stream",
     "text": [
      "package 'psych' successfully unpacked and MD5 sums checked\n",
      "\n",
      "The downloaded binary packages are in\n",
      "\tC:\\Users\\Max\\AppData\\Local\\Temp\\RtmpwnRL6W\\downloaded_packages\n"
     ]
    },
    {
     "name": "stderr",
     "output_type": "stream",
     "text": [
      "Installing package into 'C:/Users/Max/AppData/Local/R/win-library/4.5'\n",
      "(as 'lib' is unspecified)\n",
      "\n"
     ]
    },
    {
     "name": "stdout",
     "output_type": "stream",
     "text": [
      "package 'tidyverse' successfully unpacked and MD5 sums checked\n",
      "\n",
      "The downloaded binary packages are in\n",
      "\tC:\\Users\\Max\\AppData\\Local\\Temp\\RtmpwnRL6W\\downloaded_packages\n"
     ]
    },
    {
     "name": "stderr",
     "output_type": "stream",
     "text": [
      "Installing package into 'C:/Users/Max/AppData/Local/R/win-library/4.5'\n",
      "(as 'lib' is unspecified)\n",
      "\n"
     ]
    },
    {
     "name": "stdout",
     "output_type": "stream",
     "text": [
      "package 'corrplot' successfully unpacked and MD5 sums checked\n",
      "\n",
      "The downloaded binary packages are in\n",
      "\tC:\\Users\\Max\\AppData\\Local\\Temp\\RtmpwnRL6W\\downloaded_packages\n"
     ]
    },
    {
     "name": "stderr",
     "output_type": "stream",
     "text": [
      "Installing package into 'C:/Users/Max/AppData/Local/R/win-library/4.5'\n",
      "(as 'lib' is unspecified)\n",
      "\n"
     ]
    },
    {
     "name": "stdout",
     "output_type": "stream",
     "text": [
      "package 'ggplot2' successfully unpacked and MD5 sums checked\n",
      "\n",
      "The downloaded binary packages are in\n",
      "\tC:\\Users\\Max\\AppData\\Local\\Temp\\RtmpwnRL6W\\downloaded_packages\n"
     ]
    },
    {
     "name": "stderr",
     "output_type": "stream",
     "text": [
      "Installing package into 'C:/Users/Max/AppData/Local/R/win-library/4.5'\n",
      "(as 'lib' is unspecified)\n",
      "\n"
     ]
    },
    {
     "name": "stdout",
     "output_type": "stream",
     "text": [
      "package 'caret' successfully unpacked and MD5 sums checked\n",
      "\n",
      "The downloaded binary packages are in\n",
      "\tC:\\Users\\Max\\AppData\\Local\\Temp\\RtmpwnRL6W\\downloaded_packages\n"
     ]
    },
    {
     "name": "stderr",
     "output_type": "stream",
     "text": [
      "Installing package into 'C:/Users/Max/AppData/Local/R/win-library/4.5'\n",
      "(as 'lib' is unspecified)\n",
      "\n"
     ]
    },
    {
     "name": "stdout",
     "output_type": "stream",
     "text": [
      "package 'Metrics' successfully unpacked and MD5 sums checked\n",
      "\n",
      "The downloaded binary packages are in\n",
      "\tC:\\Users\\Max\\AppData\\Local\\Temp\\RtmpwnRL6W\\downloaded_packages\n"
     ]
    },
    {
     "name": "stderr",
     "output_type": "stream",
     "text": [
      "Installing package into 'C:/Users/Max/AppData/Local/R/win-library/4.5'\n",
      "(as 'lib' is unspecified)\n",
      "\n"
     ]
    },
    {
     "name": "stdout",
     "output_type": "stream",
     "text": [
      "package 'e1071' successfully unpacked and MD5 sums checked\n",
      "\n",
      "The downloaded binary packages are in\n",
      "\tC:\\Users\\Max\\AppData\\Local\\Temp\\RtmpwnRL6W\\downloaded_packages\n"
     ]
    },
    {
     "name": "stderr",
     "output_type": "stream",
     "text": [
      "Installing package into 'C:/Users/Max/AppData/Local/R/win-library/4.5'\n",
      "(as 'lib' is unspecified)\n",
      "\n"
     ]
    },
    {
     "name": "stdout",
     "output_type": "stream",
     "text": [
      "package 'glmnet' successfully unpacked and MD5 sums checked\n",
      "\n",
      "The downloaded binary packages are in\n",
      "\tC:\\Users\\Max\\AppData\\Local\\Temp\\RtmpwnRL6W\\downloaded_packages\n"
     ]
    },
    {
     "name": "stderr",
     "output_type": "stream",
     "text": [
      "── \u001b[1mAttaching core tidyverse packages\u001b[22m ──────────────────────── tidyverse 2.0.0 ──\n",
      "\u001b[32m✔\u001b[39m \u001b[34mdplyr    \u001b[39m 1.1.4     \u001b[32m✔\u001b[39m \u001b[34mreadr    \u001b[39m 2.1.5\n",
      "\u001b[32m✔\u001b[39m \u001b[34mforcats  \u001b[39m 1.0.0     \u001b[32m✔\u001b[39m \u001b[34mstringr  \u001b[39m 1.5.1\n",
      "\u001b[32m✔\u001b[39m \u001b[34mggplot2  \u001b[39m 3.5.2     \u001b[32m✔\u001b[39m \u001b[34mtibble   \u001b[39m 3.3.0\n",
      "\u001b[32m✔\u001b[39m \u001b[34mlubridate\u001b[39m 1.9.4     \u001b[32m✔\u001b[39m \u001b[34mtidyr    \u001b[39m 1.3.1\n",
      "\u001b[32m✔\u001b[39m \u001b[34mpurrr    \u001b[39m 1.0.4     \n",
      "── \u001b[1mConflicts\u001b[22m ────────────────────────────────────────── tidyverse_conflicts() ──\n",
      "\u001b[31m✖\u001b[39m \u001b[34mggplot2\u001b[39m::\u001b[32m%+%()\u001b[39m   masks \u001b[34mpsych\u001b[39m::%+%()\n",
      "\u001b[31m✖\u001b[39m \u001b[34mggplot2\u001b[39m::\u001b[32malpha()\u001b[39m masks \u001b[34mpsych\u001b[39m::alpha()\n",
      "\u001b[31m✖\u001b[39m \u001b[34mdplyr\u001b[39m::\u001b[32mfilter()\u001b[39m  masks \u001b[34mstats\u001b[39m::filter()\n",
      "\u001b[31m✖\u001b[39m \u001b[34mdplyr\u001b[39m::\u001b[32mlag()\u001b[39m     masks \u001b[34mstats\u001b[39m::lag()\n",
      "\u001b[36mℹ\u001b[39m Use the conflicted package (\u001b[3m\u001b[34m<http://conflicted.r-lib.org/>\u001b[39m\u001b[23m) to force all conflicts to become errors\n",
      "corrplot 0.95 loaded\n",
      "\n",
      "Loading required package: lattice\n",
      "\n",
      "\n",
      "Attaching package: 'caret'\n",
      "\n",
      "\n",
      "The following object is masked from 'package:purrr':\n",
      "\n",
      "    lift\n",
      "\n",
      "\n",
      "\n",
      "Attaching package: 'Metrics'\n",
      "\n",
      "\n",
      "The following objects are masked from 'package:caret':\n",
      "\n",
      "    precision, recall\n",
      "\n",
      "\n",
      "Loading required package: Matrix\n",
      "\n",
      "\n",
      "Attaching package: 'Matrix'\n",
      "\n",
      "\n",
      "The following objects are masked from 'package:tidyr':\n",
      "\n",
      "    expand, pack, unpack\n",
      "\n",
      "\n",
      "Loaded glmnet 4.1-9\n",
      "\n"
     ]
    }
   ],
   "source": [
    "install.packages('psych')\n",
    "install.packages('tidyverse')\n",
    "install.packages('corrplot')\n",
    "install.packages('ggplot2')\n",
    "install.packages('caret')\n",
    "install.packages('Metrics')\n",
    "install.packages('e1071')\n",
    "install.packages('glmnet')\n",
    "\n",
    "library(psych)          # alternative package to describe your data\n",
    "library(tidyverse)      # easy way to subset your data\n",
    "library(corrplot)       # to draw correlation plots\n",
    "library(ggplot2)        # to plot graphs\n",
    "library(caret)          # to run machine learning models\n",
    "library(Metrics)        # to calculate RMSE\n",
    "library(e1071)          # for statistical analyses\n",
    "library(glmnet)         # for statistical analyses\n",
    "\n",
    "options(scipen=999) # turn off scientific notation"
   ]
  },
  {
   "cell_type": "code",
   "execution_count": 2,
   "id": "0347e83f",
   "metadata": {
    "vscode": {
     "languageId": "r"
    }
   },
   "outputs": [],
   "source": [
    "# declare the dataframe and load the data\n",
    "df = read.csv('diabetes.csv')"
   ]
  },
  {
   "cell_type": "code",
   "execution_count": 3,
   "id": "74c158fb",
   "metadata": {
    "vscode": {
     "languageId": "r"
    }
   },
   "outputs": [
    {
     "name": "stdout",
     "output_type": "stream",
     "text": [
      "'data.frame':\t768 obs. of  9 variables:\n",
      " $ Pregnancies             : int  6 1 8 1 0 5 3 10 2 8 ...\n",
      " $ Glucose                 : int  148 85 183 89 137 116 78 115 197 125 ...\n",
      " $ BloodPressure           : int  72 66 64 66 40 74 50 0 70 96 ...\n",
      " $ SkinThickness           : int  35 29 0 23 35 0 32 0 45 0 ...\n",
      " $ Insulin                 : int  0 0 0 94 168 0 88 0 543 0 ...\n",
      " $ BMI                     : num  33.6 26.6 23.3 28.1 43.1 25.6 31 35.3 30.5 0 ...\n",
      " $ DiabetesPedigreeFunction: num  0.627 0.351 0.672 0.167 2.288 ...\n",
      " $ Age                     : int  50 31 32 21 33 30 26 29 53 54 ...\n",
      " $ Outcome                 : int  1 0 1 0 1 0 1 0 1 1 ...\n"
     ]
    }
   ],
   "source": [
    "# check the structure of the data\n",
    "str(df)"
   ]
  },
  {
   "cell_type": "code",
   "execution_count": 4,
   "id": "fc7f5dfa",
   "metadata": {
    "vscode": {
     "languageId": "r"
    }
   },
   "outputs": [
    {
     "data": {
      "text/plain": [
       "\n",
       "  0   1 \n",
       "500 268 "
      ]
     },
     "metadata": {},
     "output_type": "display_data"
    }
   ],
   "source": [
    "# set 'Outcome' as a factor variable\n",
    "df$Outcome <- as.factor(df$Outcome)\n",
    "table(df$Outcome)"
   ]
  },
  {
   "cell_type": "code",
   "execution_count": 5,
   "id": "d13a5e07",
   "metadata": {
    "vscode": {
     "languageId": "r"
    }
   },
   "outputs": [
    {
     "data": {
      "text/html": [
       "<style>\n",
       ".dl-inline {width: auto; margin:0; padding: 0}\n",
       ".dl-inline>dt, .dl-inline>dd {float: none; width: auto; display: inline-block}\n",
       ".dl-inline>dt::after {content: \":\\0020\"; padding-right: .5ex}\n",
       ".dl-inline>dt:not(:first-of-type) {padding-left: .5ex}\n",
       "</style><dl class=dl-inline><dt>Pregnancies</dt><dd>0</dd><dt>Glucose</dt><dd>0</dd><dt>BloodPressure</dt><dd>0</dd><dt>SkinThickness</dt><dd>0</dd><dt>Insulin</dt><dd>0</dd><dt>BMI</dt><dd>0</dd><dt>DiabetesPedigreeFunction</dt><dd>0</dd><dt>Age</dt><dd>0</dd><dt>Outcome</dt><dd>0</dd></dl>\n"
      ],
      "text/latex": [
       "\\begin{description*}\n",
       "\\item[Pregnancies] 0\n",
       "\\item[Glucose] 0\n",
       "\\item[BloodPressure] 0\n",
       "\\item[SkinThickness] 0\n",
       "\\item[Insulin] 0\n",
       "\\item[BMI] 0\n",
       "\\item[DiabetesPedigreeFunction] 0\n",
       "\\item[Age] 0\n",
       "\\item[Outcome] 0\n",
       "\\end{description*}\n"
      ],
      "text/markdown": [
       "Pregnancies\n",
       ":   0Glucose\n",
       ":   0BloodPressure\n",
       ":   0SkinThickness\n",
       ":   0Insulin\n",
       ":   0BMI\n",
       ":   0DiabetesPedigreeFunction\n",
       ":   0Age\n",
       ":   0Outcome\n",
       ":   0\n",
       "\n"
      ],
      "text/plain": [
       "             Pregnancies                  Glucose            BloodPressure \n",
       "                       0                        0                        0 \n",
       "           SkinThickness                  Insulin                      BMI \n",
       "                       0                        0                        0 \n",
       "DiabetesPedigreeFunction                      Age                  Outcome \n",
       "                       0                        0                        0 "
      ]
     },
     "metadata": {},
     "output_type": "display_data"
    }
   ],
   "source": [
    "# explore missing values\n",
    "sapply(df, function(x) sum(is.na(x))) "
   ]
  },
  {
   "cell_type": "code",
   "execution_count": 6,
   "id": "d8b2eb4a",
   "metadata": {
    "vscode": {
     "languageId": "r"
    }
   },
   "outputs": [
    {
     "data": {
      "text/html": [
       "<table class=\"dataframe\">\n",
       "<caption>A psych: 8 × 13</caption>\n",
       "<thead>\n",
       "\t<tr><th></th><th scope=col>vars</th><th scope=col>n</th><th scope=col>mean</th><th scope=col>sd</th><th scope=col>median</th><th scope=col>trimmed</th><th scope=col>mad</th><th scope=col>min</th><th scope=col>max</th><th scope=col>range</th><th scope=col>skew</th><th scope=col>kurtosis</th><th scope=col>se</th></tr>\n",
       "\t<tr><th></th><th scope=col>&lt;int&gt;</th><th scope=col>&lt;dbl&gt;</th><th scope=col>&lt;dbl&gt;</th><th scope=col>&lt;dbl&gt;</th><th scope=col>&lt;dbl&gt;</th><th scope=col>&lt;dbl&gt;</th><th scope=col>&lt;dbl&gt;</th><th scope=col>&lt;dbl&gt;</th><th scope=col>&lt;dbl&gt;</th><th scope=col>&lt;dbl&gt;</th><th scope=col>&lt;dbl&gt;</th><th scope=col>&lt;dbl&gt;</th><th scope=col>&lt;dbl&gt;</th></tr>\n",
       "</thead>\n",
       "<tbody>\n",
       "\t<tr><th scope=row>Pregnancies</th><td>1</td><td>768</td><td>  3.8450521</td><td>  3.3695781</td><td>  3.0000</td><td>  3.4610390</td><td> 2.9652000</td><td> 0.000</td><td> 17.00</td><td> 17.000</td><td> 0.8981549</td><td> 0.1421840</td><td>0.12158918</td></tr>\n",
       "\t<tr><th scope=row>Glucose</th><td>2</td><td>768</td><td>120.8945312</td><td> 31.9726182</td><td>117.0000</td><td>119.3798701</td><td>29.6520000</td><td> 0.000</td><td>199.00</td><td>199.000</td><td> 0.1730754</td><td> 0.6193695</td><td>1.15371248</td></tr>\n",
       "\t<tr><th scope=row>BloodPressure</th><td>3</td><td>768</td><td> 69.1054688</td><td> 19.3558072</td><td> 72.0000</td><td> 71.3571429</td><td>11.8608000</td><td> 0.000</td><td>122.00</td><td>122.000</td><td>-1.8364126</td><td> 5.1175100</td><td>0.69844253</td></tr>\n",
       "\t<tr><th scope=row>SkinThickness</th><td>4</td><td>768</td><td> 20.5364583</td><td> 15.9522176</td><td> 23.0000</td><td> 19.9366883</td><td>17.7912000</td><td> 0.000</td><td> 99.00</td><td> 99.000</td><td> 0.1089456</td><td>-0.5309369</td><td>0.57562607</td></tr>\n",
       "\t<tr><th scope=row>Insulin</th><td>5</td><td>768</td><td> 79.7994792</td><td>115.2440024</td><td> 30.5000</td><td> 56.7451299</td><td>45.2193000</td><td> 0.000</td><td>846.00</td><td>846.000</td><td> 2.2633826</td><td> 7.1331349</td><td>4.15850974</td></tr>\n",
       "\t<tr><th scope=row>BMI</th><td>6</td><td>768</td><td> 31.9925781</td><td>  7.8841603</td><td> 32.0000</td><td> 31.9592532</td><td> 6.8199600</td><td> 0.000</td><td> 67.10</td><td> 67.100</td><td>-0.4273073</td><td> 3.2449627</td><td>0.28449513</td></tr>\n",
       "\t<tr><th scope=row>DiabetesPedigreeFunction</th><td>7</td><td>768</td><td>  0.4718763</td><td>  0.3313286</td><td>  0.3725</td><td>  0.4215536</td><td> 0.2483355</td><td> 0.078</td><td>  2.42</td><td>  2.342</td><td> 1.9124179</td><td> 5.5285389</td><td>0.01195579</td></tr>\n",
       "\t<tr><th scope=row>Age</th><td>8</td><td>768</td><td> 33.2408854</td><td> 11.7602315</td><td> 29.0000</td><td> 31.5438312</td><td>10.3782000</td><td>21.000</td><td> 81.00</td><td> 60.000</td><td> 1.1251880</td><td> 0.6217269</td><td>0.42436080</td></tr>\n",
       "</tbody>\n",
       "</table>\n"
      ],
      "text/latex": [
       "A psych: 8 × 13\n",
       "\\begin{tabular}{r|lllllllllllll}\n",
       "  & vars & n & mean & sd & median & trimmed & mad & min & max & range & skew & kurtosis & se\\\\\n",
       "  & <int> & <dbl> & <dbl> & <dbl> & <dbl> & <dbl> & <dbl> & <dbl> & <dbl> & <dbl> & <dbl> & <dbl> & <dbl>\\\\\n",
       "\\hline\n",
       "\tPregnancies & 1 & 768 &   3.8450521 &   3.3695781 &   3.0000 &   3.4610390 &  2.9652000 &  0.000 &  17.00 &  17.000 &  0.8981549 &  0.1421840 & 0.12158918\\\\\n",
       "\tGlucose & 2 & 768 & 120.8945312 &  31.9726182 & 117.0000 & 119.3798701 & 29.6520000 &  0.000 & 199.00 & 199.000 &  0.1730754 &  0.6193695 & 1.15371248\\\\\n",
       "\tBloodPressure & 3 & 768 &  69.1054688 &  19.3558072 &  72.0000 &  71.3571429 & 11.8608000 &  0.000 & 122.00 & 122.000 & -1.8364126 &  5.1175100 & 0.69844253\\\\\n",
       "\tSkinThickness & 4 & 768 &  20.5364583 &  15.9522176 &  23.0000 &  19.9366883 & 17.7912000 &  0.000 &  99.00 &  99.000 &  0.1089456 & -0.5309369 & 0.57562607\\\\\n",
       "\tInsulin & 5 & 768 &  79.7994792 & 115.2440024 &  30.5000 &  56.7451299 & 45.2193000 &  0.000 & 846.00 & 846.000 &  2.2633826 &  7.1331349 & 4.15850974\\\\\n",
       "\tBMI & 6 & 768 &  31.9925781 &   7.8841603 &  32.0000 &  31.9592532 &  6.8199600 &  0.000 &  67.10 &  67.100 & -0.4273073 &  3.2449627 & 0.28449513\\\\\n",
       "\tDiabetesPedigreeFunction & 7 & 768 &   0.4718763 &   0.3313286 &   0.3725 &   0.4215536 &  0.2483355 &  0.078 &   2.42 &   2.342 &  1.9124179 &  5.5285389 & 0.01195579\\\\\n",
       "\tAge & 8 & 768 &  33.2408854 &  11.7602315 &  29.0000 &  31.5438312 & 10.3782000 & 21.000 &  81.00 &  60.000 &  1.1251880 &  0.6217269 & 0.42436080\\\\\n",
       "\\end{tabular}\n"
      ],
      "text/markdown": [
       "\n",
       "A psych: 8 × 13\n",
       "\n",
       "| <!--/--> | vars &lt;int&gt; | n &lt;dbl&gt; | mean &lt;dbl&gt; | sd &lt;dbl&gt; | median &lt;dbl&gt; | trimmed &lt;dbl&gt; | mad &lt;dbl&gt; | min &lt;dbl&gt; | max &lt;dbl&gt; | range &lt;dbl&gt; | skew &lt;dbl&gt; | kurtosis &lt;dbl&gt; | se &lt;dbl&gt; |\n",
       "|---|---|---|---|---|---|---|---|---|---|---|---|---|---|\n",
       "| Pregnancies | 1 | 768 |   3.8450521 |   3.3695781 |   3.0000 |   3.4610390 |  2.9652000 |  0.000 |  17.00 |  17.000 |  0.8981549 |  0.1421840 | 0.12158918 |\n",
       "| Glucose | 2 | 768 | 120.8945312 |  31.9726182 | 117.0000 | 119.3798701 | 29.6520000 |  0.000 | 199.00 | 199.000 |  0.1730754 |  0.6193695 | 1.15371248 |\n",
       "| BloodPressure | 3 | 768 |  69.1054688 |  19.3558072 |  72.0000 |  71.3571429 | 11.8608000 |  0.000 | 122.00 | 122.000 | -1.8364126 |  5.1175100 | 0.69844253 |\n",
       "| SkinThickness | 4 | 768 |  20.5364583 |  15.9522176 |  23.0000 |  19.9366883 | 17.7912000 |  0.000 |  99.00 |  99.000 |  0.1089456 | -0.5309369 | 0.57562607 |\n",
       "| Insulin | 5 | 768 |  79.7994792 | 115.2440024 |  30.5000 |  56.7451299 | 45.2193000 |  0.000 | 846.00 | 846.000 |  2.2633826 |  7.1331349 | 4.15850974 |\n",
       "| BMI | 6 | 768 |  31.9925781 |   7.8841603 |  32.0000 |  31.9592532 |  6.8199600 |  0.000 |  67.10 |  67.100 | -0.4273073 |  3.2449627 | 0.28449513 |\n",
       "| DiabetesPedigreeFunction | 7 | 768 |   0.4718763 |   0.3313286 |   0.3725 |   0.4215536 |  0.2483355 |  0.078 |   2.42 |   2.342 |  1.9124179 |  5.5285389 | 0.01195579 |\n",
       "| Age | 8 | 768 |  33.2408854 |  11.7602315 |  29.0000 |  31.5438312 | 10.3782000 | 21.000 |  81.00 |  60.000 |  1.1251880 |  0.6217269 | 0.42436080 |\n",
       "\n"
      ],
      "text/plain": [
       "                         vars n   mean        sd          median   trimmed    \n",
       "Pregnancies              1    768   3.8450521   3.3695781   3.0000   3.4610390\n",
       "Glucose                  2    768 120.8945312  31.9726182 117.0000 119.3798701\n",
       "BloodPressure            3    768  69.1054688  19.3558072  72.0000  71.3571429\n",
       "SkinThickness            4    768  20.5364583  15.9522176  23.0000  19.9366883\n",
       "Insulin                  5    768  79.7994792 115.2440024  30.5000  56.7451299\n",
       "BMI                      6    768  31.9925781   7.8841603  32.0000  31.9592532\n",
       "DiabetesPedigreeFunction 7    768   0.4718763   0.3313286   0.3725   0.4215536\n",
       "Age                      8    768  33.2408854  11.7602315  29.0000  31.5438312\n",
       "                         mad        min    max    range   skew       kurtosis  \n",
       "Pregnancies               2.9652000  0.000  17.00  17.000  0.8981549  0.1421840\n",
       "Glucose                  29.6520000  0.000 199.00 199.000  0.1730754  0.6193695\n",
       "BloodPressure            11.8608000  0.000 122.00 122.000 -1.8364126  5.1175100\n",
       "SkinThickness            17.7912000  0.000  99.00  99.000  0.1089456 -0.5309369\n",
       "Insulin                  45.2193000  0.000 846.00 846.000  2.2633826  7.1331349\n",
       "BMI                       6.8199600  0.000  67.10  67.100 -0.4273073  3.2449627\n",
       "DiabetesPedigreeFunction  0.2483355  0.078   2.42   2.342  1.9124179  5.5285389\n",
       "Age                      10.3782000 21.000  81.00  60.000  1.1251880  0.6217269\n",
       "                         se        \n",
       "Pregnancies              0.12158918\n",
       "Glucose                  1.15371248\n",
       "BloodPressure            0.69844253\n",
       "SkinThickness            0.57562607\n",
       "Insulin                  4.15850974\n",
       "BMI                      0.28449513\n",
       "DiabetesPedigreeFunction 0.01195579\n",
       "Age                      0.42436080"
      ]
     },
     "metadata": {},
     "output_type": "display_data"
    }
   ],
   "source": [
    "# describe numeric and integer variables\n",
    "df %>%\n",
    "  keep(is.numeric) %>% \n",
    "  describe"
   ]
  },
  {
   "cell_type": "markdown",
   "id": "4eb1b4f0",
   "metadata": {},
   "source": [
    "### Ex2"
   ]
  },
  {
   "cell_type": "code",
   "execution_count": 7,
   "id": "32b37d20",
   "metadata": {
    "vscode": {
     "languageId": "r"
    }
   },
   "outputs": [
    {
     "data": {
      "text/plain": [
       "\n",
       " Descriptive statistics by group \n",
       "group: 0\n",
       "                         vars   n   mean    sd median trimmed   mad   min\n",
       "Pregnancies                 1 500   3.30  3.02   2.00    2.89  2.97  0.00\n",
       "Glucose                     2 500 109.98 26.14 107.00  108.87 23.72  0.00\n",
       "BloodPressure               3 500  68.18 18.06  70.00   69.97 11.86  0.00\n",
       "SkinThickness               4 500  19.66 14.89  21.00   19.08 16.31  0.00\n",
       "Insulin                     5 500  68.79 98.87  39.00   49.19 57.82  0.00\n",
       "BMI                         6 500  30.30  7.69  30.05   30.37  7.19  0.00\n",
       "DiabetesPedigreeFunction    7 500   0.43  0.30   0.34    0.38  0.22  0.08\n",
       "Age                         8 500  31.19 11.67  27.00   28.99  7.41 21.00\n",
       "Outcome                     9 500   1.00  0.00   1.00    1.00  0.00  1.00\n",
       "                            max  range  skew kurtosis   se\n",
       "Pregnancies               13.00  13.00  1.11     0.65 0.13\n",
       "Glucose                  197.00 197.00  0.17     1.85 1.17\n",
       "BloodPressure            122.00 122.00 -1.80     5.58 0.81\n",
       "SkinThickness             60.00  60.00  0.03    -1.05 0.67\n",
       "Insulin                  744.00 744.00  2.48     9.30 4.42\n",
       "BMI                       57.30  57.30 -0.66     2.99 0.34\n",
       "DiabetesPedigreeFunction   2.33   2.25  1.99     6.01 0.01\n",
       "Age                       81.00  60.00  1.56     1.91 0.52\n",
       "Outcome                    1.00   0.00   NaN      NaN 0.00\n",
       "------------------------------------------------------------ \n",
       "group: 1\n",
       "                         vars   n   mean     sd median trimmed   mad   min\n",
       "Pregnancies                 1 268   4.87   3.74   4.00    4.60  4.45  0.00\n",
       "Glucose                     2 268 141.26  31.94 140.00  141.69 35.58  0.00\n",
       "BloodPressure               3 268  70.82  21.49  74.00   73.99 11.86  0.00\n",
       "SkinThickness               4 268  22.16  17.68  27.00   21.61 19.27  0.00\n",
       "Insulin                     5 268 100.34 138.69   0.00   73.64  0.00  0.00\n",
       "BMI                         6 268  35.14   7.26  34.25   34.84  5.71  0.00\n",
       "DiabetesPedigreeFunction    7 268   0.55   0.37   0.45    0.50  0.31  0.09\n",
       "Age                         8 268  37.07  10.97  36.00   36.28 11.86 21.00\n",
       "Outcome                     9 268   2.00   0.00   2.00    2.00  0.00  2.00\n",
       "                            max  range  skew kurtosis   se\n",
       "Pregnancies               17.00  17.00  0.50    -0.47 0.23\n",
       "Glucose                  199.00 199.00 -0.49     1.35 1.95\n",
       "BloodPressure            114.00 114.00 -1.92     4.53 1.31\n",
       "SkinThickness             99.00  99.00  0.11    -0.25 1.08\n",
       "Insulin                  846.00 846.00  1.82     4.20 8.47\n",
       "BMI                       67.10  67.10  0.00     4.60 0.44\n",
       "DiabetesPedigreeFunction   2.42   2.33  1.70     4.40 0.02\n",
       "Age                       70.00  49.00  0.58    -0.38 0.67\n",
       "Outcome                    2.00   0.00   NaN      NaN 0.00"
      ]
     },
     "metadata": {},
     "output_type": "display_data"
    }
   ],
   "source": [
    "# describe X-variables separately for both outcome categories:\n",
    "describeBy(df, group=df$Outcome)"
   ]
  },
  {
   "cell_type": "code",
   "execution_count": 8,
   "id": "6939c32e",
   "metadata": {
    "vscode": {
     "languageId": "r"
    }
   },
   "outputs": [
    {
     "data": {
      "image/png": "[encoded data removed]",
      "text/plain": [
       "Plot with title \"Correlation between all numeric variables in the dataset\""
      ]
     },
     "metadata": {
      "image/png": {
       "height": 420,
       "width": 420
      }
     },
     "output_type": "display_data"
    }
   ],
   "source": [
    "# correlation plot \n",
    "df$Outcome = as.numeric(df$Outcome)\n",
    "corr_df <- df %>% \n",
    "  keep(is.numeric) %>% \n",
    "  cor\n",
    "\n",
    "corrplot(corr_df, number.font=12, tl.cex = 1.00, title=\"Correlation between all numeric variables in the dataset\", mar=c(0,0,1,0))\n",
    "df$Outcome = as.factor(df$Outcome)"
   ]
  },
  {
   "cell_type": "code",
   "execution_count": 9,
   "id": "45fa08a6",
   "metadata": {
    "vscode": {
     "languageId": "r"
    }
   },
   "outputs": [
    {
     "data": {
      "image/png": "[encoded data removed]",
      "text/plain": [
       "plot without title"
      ]
     },
     "metadata": {
      "image/png": {
       "height": 420,
       "width": 420
      }
     },
     "output_type": "display_data"
    },
    {
     "data": {
      "image/png": "[encoded data removed]",
      "text/plain": [
       "plot without title"
      ]
     },
     "metadata": {
      "image/png": {
       "height": 420,
       "width": 420
      }
     },
     "output_type": "display_data"
    }
   ],
   "source": [
    "# construct boxplot\n",
    "ggplot(df, aes(x=BloodPressure, y=Outcome, group=Outcome)) + \n",
    "  geom_boxplot(aes(fill=Outcome)) +\n",
    "  labs(title=\"Boxplot number of times BloodPressure by diabetes status\")+\n",
    "  ylab(label=\"Diabetes status\") + \n",
    "  xlab(\"BloodPressure\")+\n",
    "  theme_bw()+\n",
    "  theme(axis.text.x = element_text(angle = 90, vjust = 0.5, hjust=1))\n",
    "\n",
    "ggplot(df, aes(x=Age, y=Outcome, group=Outcome)) + \n",
    "  geom_boxplot(aes(fill=Outcome)) +\n",
    "  labs(title=\"Boxplot level of age by diabetes status\")+\n",
    "  ylab(label=\"Diabetes status\") + \n",
    "  xlab(\"Age\")+\n",
    "  theme_bw()+\n",
    "  theme(axis.text.x = element_text(angle = 90, vjust = 0.5, hjust=1))"
   ]
  },
  {
   "cell_type": "markdown",
   "id": "d147d0d7",
   "metadata": {},
   "source": [
    "### Ex3"
   ]
  },
  {
   "cell_type": "code",
   "execution_count": 10,
   "id": "2dda42df",
   "metadata": {
    "vscode": {
     "languageId": "r"
    }
   },
   "outputs": [],
   "source": [
    "# prepare the data for modeling\n",
    "set.seed(123456789)\n",
    "dt = sort(sample(nrow(df), nrow(df)*0.7)) # 70% in train set\n",
    "train<-df[dt,]\n",
    "test<-df[-dt,]"
   ]
  },
  {
   "cell_type": "code",
   "execution_count": 11,
   "id": "a9b1abc7",
   "metadata": {
    "vscode": {
     "languageId": "r"
    }
   },
   "outputs": [],
   "source": [
    "# cross-validation strategy\n",
    "ctrl <- trainControl(method = \"repeatedcv\",\n",
    "                     number = 10,\n",
    "                     repeats = 3)"
   ]
  },
  {
   "cell_type": "code",
   "execution_count": 12,
   "id": "ec132358",
   "metadata": {
    "vscode": {
     "languageId": "r"
    }
   },
   "outputs": [
    {
     "data": {
      "text/plain": [
       "Generalized Linear Model \n",
       "\n",
       "537 samples\n",
       "  8 predictor\n",
       "  2 classes: '1', '2' \n",
       "\n",
       "Pre-processing: centered (8) \n",
       "Resampling: Cross-Validated (10 fold, repeated 3 times) \n",
       "Summary of sample sizes: 483, 484, 484, 483, 484, 483, ... \n",
       "Resampling results:\n",
       "\n",
       "  Accuracy   Kappa    \n",
       "  0.7411473  0.4116903\n"
      ]
     },
     "metadata": {},
     "output_type": "display_data"
    },
    {
     "data": {
      "text/plain": [
       "glm variable importance\n",
       "\n",
       "                         Overall\n",
       "Glucose                  100.000\n",
       "BMI                       77.506\n",
       "BloodPressure             36.967\n",
       "Pregnancies               36.901\n",
       "DiabetesPedigreeFunction  19.006\n",
       "Age                       15.340\n",
       "Insulin                    7.595\n",
       "SkinThickness              0.000"
      ]
     },
     "metadata": {},
     "output_type": "display_data"
    }
   ],
   "source": [
    "# train the model using logistic regression\n",
    "lm <- train(Outcome ~ ., method = \"glm\", \n",
    "            data = train, \n",
    "            trControl = ctrl, \n",
    "            preProcess = c(\"center\"))\n",
    "            \n",
    "lm # to obtain summary of the model\n",
    "varImp(lm) # to see most important parameters"
   ]
  },
  {
   "cell_type": "code",
   "execution_count": 13,
   "id": "abab63de",
   "metadata": {
    "vscode": {
     "languageId": "r"
    }
   },
   "outputs": [
    {
     "data": {
      "text/plain": [
       "k-Nearest Neighbors \n",
       "\n",
       "537 samples\n",
       "  8 predictor\n",
       "  2 classes: '1', '2' \n",
       "\n",
       "Pre-processing: centered (8), scaled (8) \n",
       "Resampling: Cross-Validated (10 fold, repeated 3 times) \n",
       "Summary of sample sizes: 484, 484, 484, 482, 483, 483, ... \n",
       "Resampling results across tuning parameters:\n",
       "\n",
       "  k   Accuracy   Kappa    \n",
       "   5  0.7162899  0.3641858\n",
       "   7  0.7163145  0.3614373\n",
       "   9  0.7162796  0.3612918\n",
       "  11  0.7162916  0.3491685\n",
       "  13  0.7249918  0.3688000\n",
       "  15  0.7355094  0.3906797\n",
       "  17  0.7262268  0.3654250\n",
       "  19  0.7262506  0.3623023\n",
       "  21  0.7274618  0.3610023\n",
       "  23  0.7231874  0.3464862\n",
       "\n",
       "Accuracy was used to select the optimal model using the largest value.\n",
       "The final value used for the model was k = 15."
      ]
     },
     "metadata": {},
     "output_type": "display_data"
    },
    {
     "data": {
      "text/plain": [
       "ROC curve variable importance\n",
       "\n",
       "                         Importance\n",
       "Glucose                    100.0000\n",
       "BMI                         67.7046\n",
       "Age                         60.4974\n",
       "DiabetesPedigreeFunction    29.9513\n",
       "Pregnancies                 29.5315\n",
       "BloodPressure               11.8730\n",
       "SkinThickness                0.3308\n",
       "Insulin                      0.0000"
      ]
     },
     "metadata": {},
     "output_type": "display_data"
    },
    {
     "data": {
      "image/png": "[encoded data removed]",
      "text/plain": [
       "plot without title"
      ]
     },
     "metadata": {
      "image/png": {
       "height": 420,
       "width": 420
      }
     },
     "output_type": "display_data"
    },
    {
     "data": {
      "image/png": "[encoded data removed]",
      "text/plain": [
       "plot without title"
      ]
     },
     "metadata": {
      "image/png": {
       "height": 420,
       "width": 420
      }
     },
     "output_type": "display_data"
    }
   ],
   "source": [
    "# train the model using K-Nearest Neighbors\n",
    "knn <- train(Outcome ~ ., method = \"knn\", \n",
    "             data = train, \n",
    "             trControl = ctrl, \n",
    "             preProcess = c(\"center\", \"scale\"),\n",
    "             tuneLength = 10)\n",
    "knn # to obtain summary of the model\n",
    "varImp(knn) # to see most important parameters\n",
    "plot(knn)\n",
    "plot(varImp(knn)) # to plot most important parameters"
   ]
  },
  {
   "cell_type": "code",
   "execution_count": 14,
   "id": "17520a3d",
   "metadata": {
    "vscode": {
     "languageId": "r"
    }
   },
   "outputs": [
    {
     "data": {
      "text/plain": [
       "glmnet \n",
       "\n",
       "537 samples\n",
       "  8 predictor\n",
       "  2 classes: '1', '2' \n",
       "\n",
       "Pre-processing: centered (8), scaled (8) \n",
       "Resampling: Cross-Validated (10 fold, repeated 3 times) \n",
       "Summary of sample sizes: 483, 484, 483, 484, 483, 484, ... \n",
       "Resampling results across tuning parameters:\n",
       "\n",
       "  lambda       Accuracy   Kappa    \n",
       "  0.001000000  0.7493010  0.4309022\n",
       "  0.003020408  0.7505127  0.4328372\n",
       "  0.005040816  0.7505243  0.4316186\n",
       "  0.007061224  0.7492898  0.4282043\n",
       "  0.009081633  0.7480319  0.4254330\n",
       "  0.011102041  0.7480431  0.4249458\n",
       "  0.013122449  0.7455848  0.4185947\n",
       "  0.015142857  0.7431152  0.4124109\n",
       "  0.017163265  0.7412746  0.4071117\n",
       "  0.019183673  0.7418923  0.4077112\n",
       "  0.021204082  0.7425096  0.4079657\n",
       "  0.023224490  0.7393994  0.3982048\n",
       "  0.025244898  0.7375243  0.3932226\n",
       "  0.027265306  0.7394111  0.3966306\n",
       "  0.029285714  0.7400517  0.3964155\n",
       "  0.031306122  0.7406340  0.3960382\n",
       "  0.033326531  0.7387589  0.3904018\n",
       "  0.035346939  0.7356724  0.3815250\n",
       "  0.037367347  0.7338089  0.3763318\n",
       "  0.039387755  0.7350552  0.3786289\n",
       "  0.041408163  0.7387938  0.3857902\n",
       "  0.043428571  0.7394111  0.3870199\n",
       "  0.045448980  0.7393994  0.3864769\n",
       "  0.047469388  0.7400284  0.3871399\n",
       "  0.049489796  0.7418807  0.3912256\n",
       "  0.051510204  0.7418807  0.3912256\n",
       "  0.053530612  0.7425208  0.3910605\n",
       "  0.055551020  0.7419035  0.3887169\n",
       "  0.057571429  0.7419035  0.3881921\n",
       "  0.059591837  0.7419035  0.3860263\n",
       "  0.061612245  0.7400633  0.3803231\n",
       "  0.063632653  0.7412750  0.3816680\n",
       "  0.065653061  0.7412867  0.3805712\n",
       "  0.067673469  0.7412750  0.3788461\n",
       "  0.069693878  0.7400176  0.3729106\n",
       "  0.071714286  0.7363022  0.3618138\n",
       "  0.073734694  0.7344387  0.3543601\n",
       "  0.075755102  0.7369083  0.3590078\n",
       "  0.077775510  0.7350103  0.3526570\n",
       "  0.079795918  0.7343585  0.3490561\n",
       "  0.081816327  0.7337295  0.3461262\n",
       "  0.083836735  0.7336950  0.3448155\n",
       "  0.085857143  0.7306086  0.3350390\n",
       "  0.087877551  0.7274872  0.3258934\n",
       "  0.089897959  0.7274989  0.3253796\n",
       "  0.091918367  0.7250177  0.3172643\n",
       "  0.093938776  0.7249948  0.3159001\n",
       "  0.095959184  0.7219196  0.3060085\n",
       "  0.097979592  0.7225369  0.3062757\n",
       "  0.100000000  0.7225136  0.3038303\n",
       "\n",
       "Tuning parameter 'alpha' was held constant at a value of 1\n",
       "Accuracy was used to select the optimal model using the largest value.\n",
       "The final values used for the model were alpha = 1 and lambda = 0.005040816."
      ]
     },
     "metadata": {},
     "output_type": "display_data"
    },
    {
     "data": {
      "text/plain": [
       "glmnet variable importance\n",
       "\n",
       "                         Overall\n",
       "Glucose                  100.000\n",
       "BMI                       74.039\n",
       "Pregnancies               33.986\n",
       "BloodPressure             29.432\n",
       "Age                       15.199\n",
       "DiabetesPedigreeFunction  14.665\n",
       "Insulin                    4.736\n",
       "SkinThickness              0.000"
      ]
     },
     "metadata": {},
     "output_type": "display_data"
    },
    {
     "data": {
      "image/png": "[encoded data removed]",
      "text/plain": [
       "plot without title"
      ]
     },
     "metadata": {
      "image/png": {
       "height": 420,
       "width": 420
      }
     },
     "output_type": "display_data"
    },
    {
     "data": {
      "image/png": "[encoded data removed]",
      "text/plain": [
       "plot without title"
      ]
     },
     "metadata": {
      "image/png": {
       "height": 420,
       "width": 420
      }
     },
     "output_type": "display_data"
    }
   ],
   "source": [
    "# train the model using LASSO regression\n",
    "lasso <- train(Outcome ~ ., method = \"glmnet\", \n",
    "                data = train, \n",
    "                trControl = ctrl, \n",
    "                family = \"binomial\",\n",
    "                preProcess = c(\"center\", \"scale\"),\n",
    "                tuneGrid = expand.grid(alpha = 1, lambda = seq(0.001, 0.1, length = 50)))\n",
    "lasso # to obtain summary of the model\n",
    "plot(lasso)\n",
    "varImp(lasso) # to see most important parameters\n",
    "plot(varImp(lasso)) # to plot most important parameters"
   ]
  },
  {
   "cell_type": "code",
   "execution_count": 15,
   "id": "a202afd3",
   "metadata": {
    "vscode": {
     "languageId": "r"
    }
   },
   "outputs": [
    {
     "name": "stdout",
     "output_type": "stream",
     "text": [
      "[1] \"LM performance\"\n"
     ]
    },
    {
     "data": {
      "text/plain": [
       "Confusion Matrix and Statistics\n",
       "\n",
       "          Reference\n",
       "Prediction   1   2\n",
       "         1 140  22\n",
       "         2  18  51\n",
       "                                          \n",
       "               Accuracy : 0.8268          \n",
       "                 95% CI : (0.7718, 0.8733)\n",
       "    No Information Rate : 0.684           \n",
       "    P-Value [Acc > NIR] : 0.0000006445    \n",
       "                                          \n",
       "                  Kappa : 0.5935          \n",
       "                                          \n",
       " Mcnemar's Test P-Value : 0.6353          \n",
       "                                          \n",
       "            Sensitivity : 0.8861          \n",
       "            Specificity : 0.6986          \n",
       "         Pos Pred Value : 0.8642          \n",
       "         Neg Pred Value : 0.7391          \n",
       "             Prevalence : 0.6840          \n",
       "         Detection Rate : 0.6061          \n",
       "   Detection Prevalence : 0.7013          \n",
       "      Balanced Accuracy : 0.7924          \n",
       "                                          \n",
       "       'Positive' Class : 1               \n",
       "                                          "
      ]
     },
     "metadata": {},
     "output_type": "display_data"
    },
    {
     "name": "stdout",
     "output_type": "stream",
     "text": [
      "[1] \"KNN performance\"\n"
     ]
    },
    {
     "data": {
      "text/plain": [
       "Confusion Matrix and Statistics\n",
       "\n",
       "          Reference\n",
       "Prediction   1   2\n",
       "         1 136  29\n",
       "         2  22  44\n",
       "                                         \n",
       "               Accuracy : 0.7792         \n",
       "                 95% CI : (0.7201, 0.831)\n",
       "    No Information Rate : 0.684          \n",
       "    P-Value [Acc > NIR] : 0.0008711      \n",
       "                                         \n",
       "                  Kappa : 0.4758         \n",
       "                                         \n",
       " Mcnemar's Test P-Value : 0.4008142      \n",
       "                                         \n",
       "            Sensitivity : 0.8608         \n",
       "            Specificity : 0.6027         \n",
       "         Pos Pred Value : 0.8242         \n",
       "         Neg Pred Value : 0.6667         \n",
       "             Prevalence : 0.6840         \n",
       "         Detection Rate : 0.5887         \n",
       "   Detection Prevalence : 0.7143         \n",
       "      Balanced Accuracy : 0.7317         \n",
       "                                         \n",
       "       'Positive' Class : 1              \n",
       "                                         "
      ]
     },
     "metadata": {},
     "output_type": "display_data"
    },
    {
     "name": "stdout",
     "output_type": "stream",
     "text": [
      "[1] \"LASSO performance\"\n"
     ]
    },
    {
     "data": {
      "text/plain": [
       "Confusion Matrix and Statistics\n",
       "\n",
       "          Reference\n",
       "Prediction   1   2\n",
       "         1 140  22\n",
       "         2  18  51\n",
       "                                          \n",
       "               Accuracy : 0.8268          \n",
       "                 95% CI : (0.7718, 0.8733)\n",
       "    No Information Rate : 0.684           \n",
       "    P-Value [Acc > NIR] : 0.0000006445    \n",
       "                                          \n",
       "                  Kappa : 0.5935          \n",
       "                                          \n",
       " Mcnemar's Test P-Value : 0.6353          \n",
       "                                          \n",
       "            Sensitivity : 0.8861          \n",
       "            Specificity : 0.6986          \n",
       "         Pos Pred Value : 0.8642          \n",
       "         Neg Pred Value : 0.7391          \n",
       "             Prevalence : 0.6840          \n",
       "         Detection Rate : 0.6061          \n",
       "   Detection Prevalence : 0.7013          \n",
       "      Balanced Accuracy : 0.7924          \n",
       "                                          \n",
       "       'Positive' Class : 1               \n",
       "                                          "
      ]
     },
     "metadata": {},
     "output_type": "display_data"
    }
   ],
   "source": [
    "# check performance on test set\n",
    "# For LM:\n",
    "print(\"LM performance\")\n",
    "pred_lm <- predict(lm, newdata = test)\n",
    "confusionMatrix(pred_lm, test$Outcome)\n",
    "\n",
    "# For KNN\n",
    "print(\"KNN performance\")\n",
    "pred_knn <- predict(knn, newdata = test)\n",
    "confusionMatrix(pred_knn, test$Outcome)\n",
    "\n",
    "# For LASSO\n",
    "print(\"LASSO performance\")\n",
    "pred_lasso <- predict(lasso, newdata = test)\n",
    "confusionMatrix(pred_lasso, test$Outcome)"
   ]
  },
  {
   "cell_type": "code",
   "execution_count": 16,
   "id": "1758d639",
   "metadata": {
    "vscode": {
     "languageId": "r"
    }
   },
   "outputs": [
    {
     "data": {
      "text/plain": [
       "\n",
       "Call:\n",
       "summary.resamples(object = results)\n",
       "\n",
       "Models: lm, knn, lasso \n",
       "Number of resamples: 30 \n",
       "\n",
       "Accuracy \n",
       "           Min.   1st Qu.    Median      Mean   3rd Qu.      Max. NA's\n",
       "lm    0.6296296 0.7169811 0.7358491 0.7411473 0.7581237 0.8703704    0\n",
       "knn   0.6415094 0.7037037 0.7407407 0.7355094 0.7700035 0.8888889    0\n",
       "lasso 0.6666667 0.7222222 0.7547170 0.7505243 0.7777778 0.8301887    0\n",
       "\n",
       "Kappa \n",
       "           Min.   1st Qu.    Median      Mean   3rd Qu.      Max. NA's\n",
       "lm    0.2058824 0.3577886 0.4028702 0.4116903 0.4502561 0.7004754    0\n",
       "knn   0.1725555 0.3316024 0.4075235 0.3906797 0.4419117 0.7440758    0\n",
       "lasso 0.2032787 0.3794435 0.4389857 0.4316186 0.4911602 0.6174820    0\n"
      ]
     },
     "metadata": {},
     "output_type": "display_data"
    },
    {
     "data": {
      "image/png": "[encoded data removed]",
      "text/plain": [
       "plot without title"
      ]
     },
     "metadata": {
      "image/png": {
       "height": 420,
       "width": 420
      }
     },
     "output_type": "display_data"
    }
   ],
   "source": [
    "# compare the models\n",
    "results <- resamples(list(lm = lm, knn = knn, lasso = lasso))\n",
    "summary(results)\n",
    "bwplot(results) # boxplot of the results\n"
   ]
  },
  {
   "cell_type": "code",
   "execution_count": 18,
   "id": "f57229a2",
   "metadata": {
    "vscode": {
     "languageId": "r"
    }
   },
   "outputs": [
    {
     "ename": "ERROR",
     "evalue": "Error in shapviz.default(lasso, X = train, type = \"shap\", ncol = 3, title = \"SHAP values for LASSO model\"): No default method available.\n",
     "output_type": "error",
     "traceback": [
      "Error in shapviz.default(lasso, X = train, type = \"shap\", ncol = 3, title = \"SHAP values for LASSO model\"): No default method available.\nTraceback:\n",
      "1. shapviz.default(lasso, X = train, type = \"shap\", ncol = 3, title = \"SHAP values for LASSO model\")",
      "2. stop(\"No default method available.\")",
      "3. .handleSimpleError(function (cnd) \n . {\n .     watcher$capture_plot_and_output()\n .     cnd <- sanitize_call(cnd)\n .     watcher$push(cnd)\n .     switch(on_error, continue = invokeRestart(\"eval_continue\"), \n .         stop = invokeRestart(\"eval_stop\"), error = NULL)\n . }, \"No default method available.\", base::quote(shapviz.default(lasso, \n .     X = train, type = \"shap\", ncol = 3, title = \"SHAP values for LASSO model\")))"
     ]
    }
   ],
   "source": [
    "#install.packages('shapviz')\n",
    "#install.packages('ggplot2')\n",
    "#install.packages('xgboost')\n",
    "\n",
    "library(shapviz)\n",
    "library(ggplot2)\n",
    "library(xgboost)\n",
    "\n",
    "# show shap for the LASSO model\n",
    "shap_lasso <- shapviz(lasso, X = train, type = \"shap\", \n",
    "                      ncol = 3, \n",
    "                      title = \"SHAP values for LASSO model\")\n",
    "plot(shap_lasso) +\n",
    "  labs(title = \"SHAP values for LASSO model\") +\n",
    "  theme_minimal()\n"
   ]
  }
 ],
 "metadata": {
  "kernelspec": {
   "display_name": "R",
   "language": "R",
   "name": "ir"
  },
  "language_info": {
   "codemirror_mode": "r",
   "file_extension": ".r",
   "mimetype": "text/x-r-source",
   "name": "R",
   "pygments_lexer": "r",
   "version": "4.5.0"
  }
 },
 "nbformat": 4,
 "nbformat_minor": 5
}
