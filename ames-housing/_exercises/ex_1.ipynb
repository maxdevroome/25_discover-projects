{
 "cells": [
  {
   "cell_type": "markdown",
   "id": "074fc639",
   "metadata": {},
   "source": [
    "#### exercise 1"
   ]
  },
  {
   "cell_type": "code",
   "execution_count": 1,
   "id": "85f31cc9",
   "metadata": {},
   "outputs": [],
   "source": [
    "# import libs\n",
    "import numpy as np\n",
    "import polars as pl\n",
    "import pandas as pd"
   ]
  },
  {
   "cell_type": "code",
   "execution_count": 2,
   "id": "1ef502a9",
   "metadata": {},
   "outputs": [],
   "source": [
    "# read csv to dataframe\n",
    "pl_ames = pl.read_csv(\"../AmesHousing.csv\")\n",
    "pl_xlsx = pl.read_excel(\"../Neighborhood_names.xlsx\")"
   ]
  },
  {
   "cell_type": "code",
   "execution_count": 3,
   "id": "13137771",
   "metadata": {},
   "outputs": [],
   "source": [
    "pl_ames.join(\n",
    "    pl_xlsx,\n",
    "    left_on=\"Neighborhood\",\n",
    "    right_on=\"Neighborhood\",\n",
    "    how=\"left\",\n",
    ").write_csv(\"ames_neighborhoods.csv\")"
   ]
  },
  {
   "cell_type": "markdown",
   "id": "c9a6b1da",
   "metadata": {},
   "source": [
    "#### exercise 2"
   ]
  },
  {
   "cell_type": "code",
   "execution_count": 4,
   "id": "54d6c7bd",
   "metadata": {},
   "outputs": [],
   "source": [
    "# split dataframe into subsets by type\n",
    "pl_ames_int = pl_ames.select(pl.col(pl.Int64))\n",
    "pl_ames_string = pl_ames.select(pl.col(pl.String))"
   ]
  },
  {
   "cell_type": "code",
   "execution_count": 5,
   "id": "ce2fa33f",
   "metadata": {},
   "outputs": [
    {
     "name": "stdout",
     "output_type": "stream",
     "text": [
      "{String, Int64}\n",
      "Number of int columns: 39, Number of string columns: 43\n"
     ]
    }
   ],
   "source": [
    "# show all distinct types\n",
    "print(set(pl_ames.dtypes))\n",
    "\n",
    "# count number of each type\n",
    "number_int = pl_ames.dtypes.count(pl.Int64)\n",
    "number_string = pl_ames.dtypes.count(pl.String)\n",
    "\n",
    "print(f\"Number of int columns: {number_int}, Number of string columns: {number_string}\")"
   ]
  },
  {
   "cell_type": "code",
   "execution_count": 6,
   "id": "261c3b09",
   "metadata": {},
   "outputs": [
    {
     "data": {
      "text/html": [
       "<div><style>\n",
       ".dataframe > thead > tr,\n",
       ".dataframe > tbody > tr {\n",
       "  text-align: right;\n",
       "  white-space: pre-wrap;\n",
       "}\n",
       "</style>\n",
       "<small>shape: (2, 21)</small><table border=\"1\" class=\"dataframe\"><thead><tr><th>column_0</th><th>column_1</th><th>column_2</th><th>column_3</th><th>column_4</th><th>column_5</th><th>column_6</th><th>column_7</th><th>column_8</th><th>column_9</th><th>column_10</th><th>column_11</th><th>column_12</th><th>column_13</th><th>column_14</th><th>column_15</th><th>column_16</th><th>column_17</th><th>column_18</th><th>column_19</th><th>column_20</th></tr><tr><td>str</td><td>str</td><td>str</td><td>str</td><td>str</td><td>str</td><td>str</td><td>str</td><td>str</td><td>str</td><td>str</td><td>str</td><td>str</td><td>str</td><td>str</td><td>str</td><td>str</td><td>str</td><td>str</td><td>str</td><td>str</td></tr></thead><tbody><tr><td>&quot;Lot Frontage&quot;</td><td>&quot;Mas Vnr Type&quot;</td><td>&quot;Mas Vnr Area&quot;</td><td>&quot;Bsmt Qual&quot;</td><td>&quot;Bsmt Cond&quot;</td><td>&quot;Bsmt Exposure&quot;</td><td>&quot;BsmtFin Type 1&quot;</td><td>&quot;BsmtFin SF 1&quot;</td><td>&quot;BsmtFin Type 2&quot;</td><td>&quot;BsmtFin SF 2&quot;</td><td>&quot;Bsmt Unf SF&quot;</td><td>&quot;Total Bsmt SF&quot;</td><td>&quot;Electrical&quot;</td><td>&quot;Bsmt Full Bath&quot;</td><td>&quot;Bsmt Half Bath&quot;</td><td>&quot;Garage Yr Blt&quot;</td><td>&quot;Garage Finish&quot;</td><td>&quot;Garage Cars&quot;</td><td>&quot;Garage Area&quot;</td><td>&quot;Garage Qual&quot;</td><td>&quot;Garage Cond&quot;</td></tr><tr><td>&quot;490&quot;</td><td>&quot;23&quot;</td><td>&quot;23&quot;</td><td>&quot;1&quot;</td><td>&quot;1&quot;</td><td>&quot;4&quot;</td><td>&quot;1&quot;</td><td>&quot;1&quot;</td><td>&quot;2&quot;</td><td>&quot;1&quot;</td><td>&quot;1&quot;</td><td>&quot;1&quot;</td><td>&quot;1&quot;</td><td>&quot;2&quot;</td><td>&quot;2&quot;</td><td>&quot;159&quot;</td><td>&quot;2&quot;</td><td>&quot;1&quot;</td><td>&quot;1&quot;</td><td>&quot;1&quot;</td><td>&quot;1&quot;</td></tr></tbody></table></div>"
      ],
      "text/plain": [
       "shape: (2, 21)\n",
       "┌───────────┬───────────┬───────────┬───────────┬───┬───────────┬───────────┬───────────┬──────────┐\n",
       "│ column_0  ┆ column_1  ┆ column_2  ┆ column_3  ┆ … ┆ column_17 ┆ column_18 ┆ column_19 ┆ column_2 │\n",
       "│ ---       ┆ ---       ┆ ---       ┆ ---       ┆   ┆ ---       ┆ ---       ┆ ---       ┆ 0        │\n",
       "│ str       ┆ str       ┆ str       ┆ str       ┆   ┆ str       ┆ str       ┆ str       ┆ ---      │\n",
       "│           ┆           ┆           ┆           ┆   ┆           ┆           ┆           ┆ str      │\n",
       "╞═══════════╪═══════════╪═══════════╪═══════════╪═══╪═══════════╪═══════════╪═══════════╪══════════╡\n",
       "│ Lot       ┆ Mas Vnr   ┆ Mas Vnr   ┆ Bsmt Qual ┆ … ┆ Garage    ┆ Garage    ┆ Garage    ┆ Garage   │\n",
       "│ Frontage  ┆ Type      ┆ Area      ┆           ┆   ┆ Cars      ┆ Area      ┆ Qual      ┆ Cond     │\n",
       "│ 490       ┆ 23        ┆ 23        ┆ 1         ┆ … ┆ 1         ┆ 1         ┆ 1         ┆ 1        │\n",
       "└───────────┴───────────┴───────────┴───────────┴───┴───────────┴───────────┴───────────┴──────────┘"
      ]
     },
     "execution_count": 6,
     "metadata": {},
     "output_type": "execute_result"
    }
   ],
   "source": [
    "# find all columns with missing values, and show how many\n",
    "pl_ames.null_count().transpose(include_header=True).filter(pl.col(\"column_0\") > 0).transpose()"
   ]
  },
  {
   "cell_type": "code",
   "execution_count": 7,
   "id": "61617ac2",
   "metadata": {},
   "outputs": [
    {
     "data": {
      "text/plain": [
       "False"
      ]
     },
     "execution_count": 7,
     "metadata": {},
     "output_type": "execute_result"
    }
   ],
   "source": [
    "# is sales price complete\n",
    "pl_ames[\"SalePrice\"].is_null().any()"
   ]
  },
  {
   "cell_type": "code",
   "execution_count": 8,
   "id": "e9c803c8",
   "metadata": {},
   "outputs": [],
   "source": [
    "pd_ames = pd.read_csv(\"../AmesHousing.csv\")\n",
    "pd_xlsx = pd.read_excel(\"../Neighborhood_names.xlsx\")"
   ]
  },
  {
   "cell_type": "code",
   "execution_count": 9,
   "id": "4db7e3b6",
   "metadata": {},
   "outputs": [
    {
     "data": {
      "application/vnd.microsoft.datawrangler.viewer.v0+json": {
       "columns": [
        {
         "name": "index",
         "rawType": "object",
         "type": "string"
        },
        {
         "name": "0",
         "rawType": "int64",
         "type": "integer"
        }
       ],
       "ref": "7cf83ab7-c987-4557-9fa4-8f91e35b505f",
       "rows": [
        [
         "Order",
         "0"
        ],
        [
         "PID",
         "0"
        ],
        [
         "MS SubClass",
         "0"
        ],
        [
         "MS Zoning",
         "0"
        ],
        [
         "Lot Frontage",
         "490"
        ],
        [
         "Lot Area",
         "0"
        ],
        [
         "Street",
         "0"
        ],
        [
         "Alley",
         "2732"
        ],
        [
         "Lot Shape",
         "0"
        ],
        [
         "Land Contour",
         "0"
        ],
        [
         "Utilities",
         "0"
        ],
        [
         "Lot Config",
         "0"
        ],
        [
         "Land Slope",
         "0"
        ],
        [
         "Neighborhood",
         "0"
        ],
        [
         "Condition 1",
         "0"
        ],
        [
         "Condition 2",
         "0"
        ],
        [
         "Bldg Type",
         "0"
        ],
        [
         "House Style",
         "0"
        ],
        [
         "Overall Qual",
         "0"
        ],
        [
         "Overall Cond",
         "0"
        ],
        [
         "Year Built",
         "0"
        ],
        [
         "Year Remod/Add",
         "0"
        ],
        [
         "Roof Style",
         "0"
        ],
        [
         "Roof Matl",
         "0"
        ],
        [
         "Exterior 1st",
         "0"
        ],
        [
         "Exterior 2nd",
         "0"
        ],
        [
         "Mas Vnr Type",
         "1775"
        ],
        [
         "Mas Vnr Area",
         "23"
        ],
        [
         "Exter Qual",
         "0"
        ],
        [
         "Exter Cond",
         "0"
        ],
        [
         "Foundation",
         "0"
        ],
        [
         "Bsmt Qual",
         "80"
        ],
        [
         "Bsmt Cond",
         "80"
        ],
        [
         "Bsmt Exposure",
         "83"
        ],
        [
         "BsmtFin Type 1",
         "80"
        ],
        [
         "BsmtFin SF 1",
         "1"
        ],
        [
         "BsmtFin Type 2",
         "81"
        ],
        [
         "BsmtFin SF 2",
         "1"
        ],
        [
         "Bsmt Unf SF",
         "1"
        ],
        [
         "Total Bsmt SF",
         "1"
        ],
        [
         "Heating",
         "0"
        ],
        [
         "Heating QC",
         "0"
        ],
        [
         "Central Air",
         "0"
        ],
        [
         "Electrical",
         "1"
        ],
        [
         "1st Flr SF",
         "0"
        ],
        [
         "2nd Flr SF",
         "0"
        ],
        [
         "Low Qual Fin SF",
         "0"
        ],
        [
         "Gr Liv Area",
         "0"
        ],
        [
         "Bsmt Full Bath",
         "2"
        ],
        [
         "Bsmt Half Bath",
         "2"
        ]
       ],
       "shape": {
        "columns": 1,
        "rows": 82
       }
      },
      "text/plain": [
       "Order               0\n",
       "PID                 0\n",
       "MS SubClass         0\n",
       "MS Zoning           0\n",
       "Lot Frontage      490\n",
       "                 ... \n",
       "Mo Sold             0\n",
       "Yr Sold             0\n",
       "Sale Type           0\n",
       "Sale Condition      0\n",
       "SalePrice           0\n",
       "Length: 82, dtype: int64"
      ]
     },
     "execution_count": 9,
     "metadata": {},
     "output_type": "execute_result"
    }
   ],
   "source": [
    "pd_ames.isnull().sum()"
   ]
  },
  {
   "cell_type": "code",
   "execution_count": 10,
   "id": "16d4cce8",
   "metadata": {},
   "outputs": [
    {
     "data": {
      "text/html": [
       "<div><style>\n",
       ".dataframe > thead > tr,\n",
       ".dataframe > tbody > tr {\n",
       "  text-align: right;\n",
       "  white-space: pre-wrap;\n",
       "}\n",
       "</style>\n",
       "<small>shape: (1, 39)</small><table border=\"1\" class=\"dataframe\"><thead><tr><th>Order</th><th>PID</th><th>MS SubClass</th><th>Lot Frontage</th><th>Lot Area</th><th>Overall Qual</th><th>Overall Cond</th><th>Year Built</th><th>Year Remod/Add</th><th>Mas Vnr Area</th><th>BsmtFin SF 1</th><th>BsmtFin SF 2</th><th>Bsmt Unf SF</th><th>Total Bsmt SF</th><th>1st Flr SF</th><th>2nd Flr SF</th><th>Low Qual Fin SF</th><th>Gr Liv Area</th><th>Bsmt Full Bath</th><th>Bsmt Half Bath</th><th>Full Bath</th><th>Half Bath</th><th>Bedroom AbvGr</th><th>Kitchen AbvGr</th><th>TotRms AbvGrd</th><th>Fireplaces</th><th>Garage Yr Blt</th><th>Garage Cars</th><th>Garage Area</th><th>Wood Deck SF</th><th>Open Porch SF</th><th>Enclosed Porch</th><th>3Ssn Porch</th><th>Screen Porch</th><th>Pool Area</th><th>Misc Val</th><th>Mo Sold</th><th>Yr Sold</th><th>SalePrice</th></tr><tr><td>f64</td><td>f64</td><td>f64</td><td>f64</td><td>f64</td><td>f64</td><td>f64</td><td>f64</td><td>f64</td><td>f64</td><td>f64</td><td>f64</td><td>f64</td><td>f64</td><td>f64</td><td>f64</td><td>f64</td><td>f64</td><td>f64</td><td>f64</td><td>f64</td><td>f64</td><td>f64</td><td>f64</td><td>f64</td><td>f64</td><td>f64</td><td>f64</td><td>f64</td><td>f64</td><td>f64</td><td>f64</td><td>f64</td><td>f64</td><td>f64</td><td>f64</td><td>f64</td><td>f64</td><td>f64</td></tr></thead><tbody><tr><td>845.96247</td><td>1.8873e8</td><td>42.638025</td><td>23.365335</td><td>7880.017759</td><td>1.411026</td><td>1.111537</td><td>30.245361</td><td>20.860286</td><td>179.112611</td><td>455.590839</td><td>169.168476</td><td>439.494153</td><td>440.615067</td><td>391.890885</td><td>428.395715</td><td>46.31051</td><td>505.508887</td><td>0.52482</td><td>0.245254</td><td>0.552941</td><td>0.502629</td><td>0.827731</td><td>0.214076</td><td>1.572964</td><td>0.647921</td><td>25.528411</td><td>0.760566</td><td>215.046549</td><td>126.361562</td><td>67.4834</td><td>64.139059</td><td>25.141331</td><td>56.08737</td><td>35.597181</td><td>566.344288</td><td>2.714492</td><td>1.316613</td><td>79886.692357</td></tr></tbody></table></div>"
      ],
      "text/plain": [
       "shape: (1, 39)\n",
       "┌───────────┬──────────┬────────────┬────────────┬───┬───────────┬──────────┬──────────┬───────────┐\n",
       "│ Order     ┆ PID      ┆ MS         ┆ Lot        ┆ … ┆ Misc Val  ┆ Mo Sold  ┆ Yr Sold  ┆ SalePrice │\n",
       "│ ---       ┆ ---      ┆ SubClass   ┆ Frontage   ┆   ┆ ---       ┆ ---      ┆ ---      ┆ ---       │\n",
       "│ f64       ┆ f64      ┆ ---        ┆ ---        ┆   ┆ f64       ┆ f64      ┆ f64      ┆ f64       │\n",
       "│           ┆          ┆ f64        ┆ f64        ┆   ┆           ┆          ┆          ┆           │\n",
       "╞═══════════╪══════════╪════════════╪════════════╪═══╪═══════════╪══════════╪══════════╪═══════════╡\n",
       "│ 845.96247 ┆ 1.8873e8 ┆ 42.638025  ┆ 23.365335  ┆ … ┆ 566.34428 ┆ 2.714492 ┆ 1.316613 ┆ 79886.692 │\n",
       "│           ┆          ┆            ┆            ┆   ┆ 8         ┆          ┆          ┆ 357       │\n",
       "└───────────┴──────────┴────────────┴────────────┴───┴───────────┴──────────┴──────────┴───────────┘"
      ]
     },
     "execution_count": 10,
     "metadata": {},
     "output_type": "execute_result"
    }
   ],
   "source": [
    "# construct summary statistics\n",
    "pl_ames_int.mean()\n",
    "pl_ames_int.median()\n",
    "pl_ames_int.std()"
   ]
  },
  {
   "cell_type": "code",
   "execution_count": 11,
   "id": "a8f1b7bf",
   "metadata": {},
   "outputs": [
    {
     "name": "stdout",
     "output_type": "stream",
     "text": [
      "Summary statistics for MS Zoning:\n",
      "Mean: 7\n",
      "\n",
      "Median: RL\n",
      "\n",
      "Frequency: Counter({'RL': 2273, 'RM': 462, 'FV': 139, 'RH': 27, 'C (all)': 25, 'I (all)': 2, 'A (agr)': 2})\n",
      "\n",
      "Summary statistics for Street:\n",
      "Mean: 2\n",
      "\n",
      "Median: Pave\n",
      "\n",
      "Frequency: Counter({'Pave': 2918, 'Grvl': 12})\n",
      "\n",
      "Summary statistics for Alley:\n",
      "Mean: 3\n",
      "\n",
      "Median: NA\n",
      "\n",
      "Frequency: Counter({'NA': 2732, 'Grvl': 120, 'Pave': 78})\n",
      "\n",
      "Summary statistics for Lot Shape:\n",
      "Mean: 4\n",
      "\n",
      "Median: Reg\n",
      "\n",
      "Frequency: Counter({'Reg': 1859, 'IR1': 979, 'IR2': 76, 'IR3': 16})\n",
      "\n",
      "Summary statistics for Land Contour:\n",
      "Mean: 4\n",
      "\n",
      "Median: Lvl\n",
      "\n",
      "Frequency: Counter({'Lvl': 2633, 'HLS': 120, 'Bnk': 117, 'Low': 60})\n",
      "\n",
      "Summary statistics for Utilities:\n",
      "Mean: 3\n",
      "\n",
      "Median: AllPub\n",
      "\n",
      "Frequency: Counter({'AllPub': 2927, 'NoSewr': 2, 'NoSeWa': 1})\n",
      "\n",
      "Summary statistics for Lot Config:\n",
      "Mean: 5\n",
      "\n",
      "Median: Inside\n",
      "\n",
      "Frequency: Counter({'Inside': 2140, 'Corner': 511, 'CulDSac': 180, 'FR2': 85, 'FR3': 14})\n",
      "\n",
      "Summary statistics for Land Slope:\n",
      "Mean: 3\n",
      "\n",
      "Median: Gtl\n",
      "\n",
      "Frequency: Counter({'Gtl': 2789, 'Mod': 125, 'Sev': 16})\n",
      "\n",
      "Summary statistics for Neighborhood:\n",
      "Mean: 28\n",
      "\n",
      "Median: NAmes\n",
      "\n",
      "Frequency: Counter({'NAmes': 443, 'CollgCr': 267, 'OldTown': 239, 'Edwards': 194, 'Somerst': 182, 'NridgHt': 166, 'Gilbert': 165, 'Sawyer': 151, 'NWAmes': 131, 'SawyerW': 125, 'Mitchel': 114, 'BrkSide': 108, 'Crawfor': 103, 'IDOTRR': 93, 'Timber': 72, 'NoRidge': 71, 'StoneBr': 51, 'SWISU': 48, 'ClearCr': 44, 'MeadowV': 37, 'BrDale': 30, 'Blmngtn': 28, 'Veenker': 24, 'NPkVill': 23, 'Blueste': 10, 'Greens': 8, 'GrnHill': 2, 'Landmrk': 1})\n",
      "\n",
      "Summary statistics for Condition 1:\n",
      "Mean: 9\n",
      "\n",
      "Median: Norm\n",
      "\n",
      "Frequency: Counter({'Norm': 2522, 'Feedr': 164, 'Artery': 92, 'RRAn': 50, 'PosN': 39, 'RRAe': 28, 'PosA': 20, 'RRNn': 9, 'RRNe': 6})\n",
      "\n",
      "Summary statistics for Condition 2:\n",
      "Mean: 8\n",
      "\n",
      "Median: Norm\n",
      "\n",
      "Frequency: Counter({'Norm': 2900, 'Feedr': 13, 'Artery': 5, 'PosA': 4, 'PosN': 4, 'RRNn': 2, 'RRAe': 1, 'RRAn': 1})\n",
      "\n",
      "Summary statistics for Bldg Type:\n",
      "Mean: 5\n",
      "\n",
      "Median: 1Fam\n",
      "\n",
      "Frequency: Counter({'1Fam': 2425, 'TwnhsE': 233, 'Duplex': 109, 'Twnhs': 101, '2fmCon': 62})\n",
      "\n",
      "Summary statistics for House Style:\n",
      "Mean: 8\n",
      "\n",
      "Median: 1Story\n",
      "\n",
      "Frequency: Counter({'1Story': 1481, '2Story': 873, '1.5Fin': 314, 'SLvl': 128, 'SFoyer': 83, '2.5Unf': 24, '1.5Unf': 19, '2.5Fin': 8})\n",
      "\n",
      "Summary statistics for Roof Style:\n",
      "Mean: 6\n",
      "\n",
      "Median: Gable\n",
      "\n",
      "Frequency: Counter({'Gable': 2321, 'Hip': 551, 'Gambrel': 22, 'Flat': 20, 'Mansard': 11, 'Shed': 5})\n",
      "\n",
      "Summary statistics for Roof Matl:\n",
      "Mean: 8\n",
      "\n",
      "Median: CompShg\n",
      "\n",
      "Frequency: Counter({'CompShg': 2887, 'Tar&Grv': 23, 'WdShake': 9, 'WdShngl': 7, 'Membran': 1, 'ClyTile': 1, 'Roll': 1, 'Metal': 1})\n",
      "\n",
      "Summary statistics for Exterior 1st:\n",
      "Mean: 16\n",
      "\n",
      "Median: VinylSd\n",
      "\n",
      "Frequency: Counter({'VinylSd': 1026, 'MetalSd': 450, 'HdBoard': 442, 'Wd Sdng': 420, 'Plywood': 221, 'CemntBd': 126, 'BrkFace': 88, 'WdShing': 56, 'AsbShng': 44, 'Stucco': 43, 'BrkComm': 6, 'AsphShn': 2, 'CBlock': 2, 'Stone': 2, 'PreCast': 1, 'ImStucc': 1})\n",
      "\n",
      "Summary statistics for Exterior 2nd:\n",
      "Mean: 17\n",
      "\n",
      "Median: VinylSd\n",
      "\n",
      "Frequency: Counter({'VinylSd': 1015, 'MetalSd': 447, 'HdBoard': 406, 'Wd Sdng': 397, 'Plywood': 274, 'CmentBd': 126, 'Wd Shng': 81, 'BrkFace': 47, 'Stucco': 47, 'AsbShng': 38, 'Brk Cmn': 22, 'ImStucc': 15, 'Stone': 6, 'AsphShn': 4, 'CBlock': 3, 'PreCast': 1, 'Other': 1})\n",
      "\n",
      "Summary statistics for Mas Vnr Type:\n",
      "Mean: 6\n",
      "\n",
      "Median: None\n",
      "\n",
      "Frequency: Counter({'None': 1752, 'BrkFace': 880, 'Stone': 249, 'BrkCmn': 25, None: 23, 'CBlock': 1})\n",
      "\n",
      "Summary statistics for Exter Qual:\n",
      "Mean: 4\n",
      "\n",
      "Median: TA\n",
      "\n",
      "Frequency: Counter({'TA': 1799, 'Gd': 989, 'Ex': 107, 'Fa': 35})\n",
      "\n",
      "Summary statistics for Exter Cond:\n",
      "Mean: 5\n",
      "\n",
      "Median: TA\n",
      "\n",
      "Frequency: Counter({'TA': 2549, 'Gd': 299, 'Fa': 67, 'Ex': 12, 'Po': 3})\n",
      "\n",
      "Summary statistics for Foundation:\n",
      "Mean: 6\n",
      "\n",
      "Median: PConc\n",
      "\n",
      "Frequency: Counter({'PConc': 1310, 'CBlock': 1244, 'BrkTil': 311, 'Slab': 49, 'Stone': 11, 'Wood': 5})\n",
      "\n",
      "Summary statistics for Bsmt Qual:\n",
      "Mean: 7\n",
      "\n",
      "Median: TA\n",
      "\n",
      "Frequency: Counter({'TA': 1283, 'Gd': 1219, 'Ex': 258, 'Fa': 88, 'NA': 79, 'Po': 2, None: 1})\n",
      "\n",
      "Summary statistics for Bsmt Cond:\n",
      "Mean: 7\n",
      "\n",
      "Median: TA\n",
      "\n",
      "Frequency: Counter({'TA': 2616, 'Gd': 122, 'Fa': 104, 'NA': 79, 'Po': 5, 'Ex': 3, None: 1})\n",
      "\n",
      "Summary statistics for Bsmt Exposure:\n",
      "Mean: 6\n",
      "\n",
      "Median: No\n",
      "\n",
      "Frequency: Counter({'No': 1906, 'Av': 418, 'Gd': 284, 'Mn': 239, 'NA': 79, None: 4})\n",
      "\n",
      "Summary statistics for BsmtFin Type 1:\n",
      "Mean: 8\n",
      "\n",
      "Median: GLQ\n",
      "\n",
      "Frequency: Counter({'GLQ': 859, 'Unf': 851, 'ALQ': 429, 'Rec': 288, 'BLQ': 269, 'LwQ': 154, 'NA': 79, None: 1})\n",
      "\n",
      "Summary statistics for BsmtFin Type 2:\n",
      "Mean: 8\n",
      "\n",
      "Median: Unf\n",
      "\n",
      "Frequency: Counter({'Unf': 2499, 'Rec': 106, 'LwQ': 89, 'NA': 79, 'BLQ': 68, 'ALQ': 53, 'GLQ': 34, None: 2})\n",
      "\n",
      "Summary statistics for Heating:\n",
      "Mean: 6\n",
      "\n",
      "Median: GasA\n",
      "\n",
      "Frequency: Counter({'GasA': 2885, 'GasW': 27, 'Grav': 9, 'Wall': 6, 'OthW': 2, 'Floor': 1})\n",
      "\n",
      "Summary statistics for Heating QC:\n",
      "Mean: 5\n",
      "\n",
      "Median: Ex\n",
      "\n",
      "Frequency: Counter({'Ex': 1495, 'TA': 864, 'Gd': 476, 'Fa': 92, 'Po': 3})\n",
      "\n",
      "Summary statistics for Central Air:\n",
      "Mean: 2\n",
      "\n",
      "Median: Y\n",
      "\n",
      "Frequency: Counter({'Y': 2734, 'N': 196})\n",
      "\n",
      "Summary statistics for Electrical:\n",
      "Mean: 6\n",
      "\n",
      "Median: SBrkr\n",
      "\n",
      "Frequency: Counter({'SBrkr': 2682, 'FuseA': 188, 'FuseF': 50, 'FuseP': 8, None: 1, 'Mix': 1})\n",
      "\n",
      "Summary statistics for Kitchen Qual:\n",
      "Mean: 5\n",
      "\n",
      "Median: TA\n",
      "\n",
      "Frequency: Counter({'TA': 1494, 'Gd': 1160, 'Ex': 205, 'Fa': 70, 'Po': 1})\n",
      "\n",
      "Summary statistics for Functional:\n",
      "Mean: 8\n",
      "\n",
      "Median: Typ\n",
      "\n",
      "Frequency: Counter({'Typ': 2728, 'Min2': 70, 'Min1': 65, 'Mod': 35, 'Maj1': 19, 'Maj2': 9, 'Sev': 2, 'Sal': 2})\n",
      "\n",
      "Summary statistics for Fireplace Qu:\n",
      "Mean: 6\n",
      "\n",
      "Median: NA\n",
      "\n",
      "Frequency: Counter({'NA': 1422, 'Gd': 744, 'TA': 600, 'Fa': 75, 'Po': 46, 'Ex': 43})\n",
      "\n",
      "Summary statistics for Garage Type:\n",
      "Mean: 7\n",
      "\n",
      "Median: Attchd\n",
      "\n",
      "Frequency: Counter({'Attchd': 1731, 'Detchd': 782, 'BuiltIn': 186, 'NA': 157, 'Basment': 36, '2Types': 23, 'CarPort': 15})\n",
      "\n",
      "Summary statistics for Garage Finish:\n",
      "Mean: 5\n",
      "\n",
      "Median: Unf\n",
      "\n",
      "Frequency: Counter({'Unf': 1231, 'RFn': 812, 'Fin': 728, 'NA': 157, None: 2})\n",
      "\n",
      "Summary statistics for Garage Qual:\n",
      "Mean: 7\n",
      "\n",
      "Median: TA\n",
      "\n",
      "Frequency: Counter({'TA': 2615, 'NA': 158, 'Fa': 124, 'Gd': 24, 'Po': 5, 'Ex': 3, None: 1})\n",
      "\n",
      "Summary statistics for Garage Cond:\n",
      "Mean: 7\n",
      "\n",
      "Median: TA\n",
      "\n",
      "Frequency: Counter({'TA': 2665, 'NA': 158, 'Fa': 74, 'Gd': 15, 'Po': 14, 'Ex': 3, None: 1})\n",
      "\n",
      "Summary statistics for Paved Drive:\n",
      "Mean: 3\n",
      "\n",
      "Median: Y\n",
      "\n",
      "Frequency: Counter({'Y': 2652, 'N': 216, 'P': 62})\n",
      "\n",
      "Summary statistics for Pool QC:\n",
      "Mean: 5\n",
      "\n",
      "Median: NA\n",
      "\n",
      "Frequency: Counter({'NA': 2917, 'Ex': 4, 'Gd': 4, 'TA': 3, 'Fa': 2})\n",
      "\n",
      "Summary statistics for Fence:\n",
      "Mean: 5\n",
      "\n",
      "Median: NA\n",
      "\n",
      "Frequency: Counter({'NA': 2358, 'MnPrv': 330, 'GdPrv': 118, 'GdWo': 112, 'MnWw': 12})\n",
      "\n",
      "Summary statistics for Misc Feature:\n",
      "Mean: 6\n",
      "\n",
      "Median: NA\n",
      "\n",
      "Frequency: Counter({'NA': 2824, 'Shed': 95, 'Gar2': 5, 'Othr': 4, 'Elev': 1, 'TenC': 1})\n",
      "\n",
      "Summary statistics for Sale Type:\n",
      "Mean: 10\n",
      "\n",
      "Median: WD \n",
      "\n",
      "Frequency: Counter({'WD ': 2536, 'New': 239, 'COD': 87, 'ConLD': 26, 'CWD': 12, 'ConLI': 9, 'ConLw': 8, 'Oth': 7, 'Con': 5, 'VWD': 1})\n",
      "\n",
      "Summary statistics for Sale Condition:\n",
      "Mean: 6\n",
      "\n",
      "Median: Normal\n",
      "\n",
      "Frequency: Counter({'Normal': 2413, 'Partial': 245, 'Abnorml': 190, 'Family': 46, 'Alloca': 24, 'AdjLand': 12})\n",
      "\n"
     ]
    }
   ],
   "source": [
    "from collections import Counter\n",
    "\n",
    "def summary_statistics(df):\n",
    "    for col in df.columns:\n",
    "        print(f\"Summary statistics for {col}:\")\n",
    "        print(f\"Mean: {df[col].n_unique()}\\n\")\n",
    "        print(f\"Median: {df[col].mode()[0]}\\n\")\n",
    "        print(f\"Frequency: {Counter(df[col])}\\n\")\n",
    "\n",
    "summary_statistics(pl_ames_string)"
   ]
  },
  {
   "cell_type": "markdown",
   "id": "ee132b57",
   "metadata": {},
   "source": [
    "#### exercise 3"
   ]
  },
  {
   "cell_type": "code",
   "execution_count": 12,
   "id": "9c8fcd6d",
   "metadata": {},
   "outputs": [],
   "source": [
    "# reaplce NA with other in string columns\n",
    "pl_ames_string = pl_ames_string.with_columns([\n",
    "    pl.col(col).str.replace(\"NA\", \"other\") for col in pl_ames_string.columns\n",
    "])\n",
    "\n",
    "pl_ames_int_filled = pl_ames_int.fill_null(strategy=\"mean\")\n",
    "pl_ames_string_filled = pl_ames_string.fill_null(\"other\")"
   ]
  },
  {
   "cell_type": "code",
   "execution_count": 13,
   "id": "e4e6e959",
   "metadata": {},
   "outputs": [],
   "source": [
    "pl_ames_recombined = pl.concat([pl_ames_int_filled, pl_ames_string_filled], how=\"horizontal\")"
   ]
  },
  {
   "cell_type": "code",
   "execution_count": 25,
   "id": "a142edfe",
   "metadata": {},
   "outputs": [
    {
     "name": "stdout",
     "output_type": "stream",
     "text": [
      "1367992\n",
      "1408707\n",
      "713269\n",
      "914793\n",
      "914160\n",
      "208030\n",
      "494362\n",
      "494547\n",
      "505239\n",
      "Downcast size is only 0.52 times the size of the original.\n"
     ]
    }
   ],
   "source": [
    "# cast all columns to string\n",
    "\"\"\" pl_ames_int_dc = pl_ames_int_filled.with_columns([\n",
    "    pl.col(col).cast(pl.Int32) for col in pl_ames_int_filled.columns\n",
    "]) \"\"\"\n",
    "\n",
    "def f_pl_downcast_numerical_column(df, s_col):\n",
    "\n",
    "    # Assign Polars series to object ps_col.\n",
    "    ps_col = df[s_col]\n",
    "\n",
    "    # If the data type is Integer.\n",
    "    if ps_col.dtype in [pl.Int8, pl.Int16, pl.Int32, pl.Int64]:\n",
    "\n",
    "        # Determine min and max value.\n",
    "        n_min = ps_col.min()\n",
    "        n_max = ps_col.max()\n",
    "        \n",
    "        # If all values in ps_col are positive.\n",
    "        if n_min >= 0:\n",
    "            if n_max <= 255:\n",
    "                return pl.col(s_col).cast(pl.UInt8)\n",
    "            elif n_max <= 65535:\n",
    "                return pl.col(s_col).cast(pl.UInt16)\n",
    "            elif n_max <= 4294967295:\n",
    "                return pl.col(s_col).cast(pl.UInt32)\n",
    "            else:\n",
    "                return pl.col(s_col).cast(pl.UInt64)\n",
    "            \n",
    "        # If one or more values are negative. \n",
    "        else:\n",
    "            if n_min >= -128 and n_max <= 127:\n",
    "                return pl.col(s_col).cast(pl.Int8)\n",
    "            elif n_min >= -32768 and n_max <= 32767:\n",
    "                return pl.col(s_col).cast(pl.Int16)\n",
    "            elif n_min >= -2147483648 and n_max <= 2147483647:\n",
    "                return pl.col(s_col).cast(pl.Int32)\n",
    "            else:\n",
    "                return pl.col(s_col).cast(pl.Int64)\n",
    "            \n",
    "    # If the data type is Float64. Note, Polars accepts\n",
    "    # Float32 and Float64.\n",
    "    elif ps_col.dtype == pl.Float64:\n",
    "        return pl.col(s_col).cast(pl.Float32)\n",
    "    \n",
    "    # In all other cases.\n",
    "    else:\n",
    "        return pl.col(s_col)\n",
    "    \n",
    "# Apply the downcasting\n",
    "pl_ames_int_dc = pl_ames_int_filled.with_columns([\n",
    "\n",
    "    # Calling the function above on each column in df_pl_reduced.\n",
    "    f_pl_downcast_numerical_column(pl_ames_int_filled, s_col).alias(s_col)\n",
    "\n",
    "    # Looping through all columns.\n",
    "    # Why can we leave in the categorical columns?\n",
    "    for s_col in pl_ames_int_filled.columns\n",
    "])\n",
    "\n",
    "pl_ames_str_dc = pl_ames_string_filled.with_columns([\n",
    "    pl.col(col).cast(pl.Categorical) for col in pl_ames_string_filled.columns\n",
    "])\n",
    "\n",
    "pl_ames_recombined_dc = pl.concat([pl_ames_int_dc, pl_ames_str_dc], how=\"horizontal\")\n",
    "\n",
    "# size comparison\n",
    "for i in [\n",
    "        pl_ames, pl_ames_recombined, pl_ames_recombined_dc,\n",
    "        pl_ames_int, pl_ames_int_filled, pl_ames_int_dc,\n",
    "        pl_ames_string, pl_ames_string_filled, pl_ames_str_dc\n",
    "    ]:\n",
    "    print( i.estimated_size() )\n",
    "\n",
    "print(f\"Downcast size is only {round(pl_ames_recombined_dc.estimated_size()/pl_ames.estimated_size(), 2)} times the size of the original.\")"
   ]
  }
 ],
 "metadata": {
  "kernelspec": {
   "display_name": ".venv",
   "language": "python",
   "name": "python3"
  },
  "language_info": {
   "codemirror_mode": {
    "name": "ipython",
    "version": 3
   },
   "file_extension": ".py",
   "mimetype": "text/x-python",
   "name": "python",
   "nbconvert_exporter": "python",
   "pygments_lexer": "ipython3",
   "version": "3.10.11"
  }
 },
 "nbformat": 4,
 "nbformat_minor": 5
}
