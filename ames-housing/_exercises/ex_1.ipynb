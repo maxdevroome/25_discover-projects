{
 "cells": [
  {
   "cell_type": "markdown",
   "id": "074fc639",
   "metadata": {},
   "source": [
    "#### exercise 1"
   ]
  },
  {
   "cell_type": "code",
   "execution_count": 1,
   "id": "85f31cc9",
   "metadata": {},
   "outputs": [],
   "source": [
    "# import libs\n",
    "import numpy as np\n",
    "import polars as pl\n",
    "import pandas as pd"
   ]
  },
  {
   "cell_type": "code",
   "execution_count": 2,
   "id": "1ef502a9",
   "metadata": {},
   "outputs": [],
   "source": [
    "# read csv to dataframe\n",
    "pl_ames = pl.read_csv(\"../AmesHousing.csv\")\n",
    "pl_xlsx = pl.read_excel(\"../Neighborhood_names.xlsx\")"
   ]
  },
  {
   "cell_type": "code",
   "execution_count": 3,
   "id": "13137771",
   "metadata": {},
   "outputs": [
    {
     "data": {
      "text/html": [
       "<div><style>\n",
       ".dataframe > thead > tr,\n",
       ".dataframe > tbody > tr {\n",
       "  text-align: right;\n",
       "  white-space: pre-wrap;\n",
       "}\n",
       "</style>\n",
       "<small>shape: (9, 83)</small><table border=\"1\" class=\"dataframe\"><thead><tr><th>statistic</th><th>Order</th><th>PID</th><th>MS SubClass</th><th>MS Zoning</th><th>Lot Frontage</th><th>Lot Area</th><th>Street</th><th>Alley</th><th>Lot Shape</th><th>Land Contour</th><th>Utilities</th><th>Lot Config</th><th>Land Slope</th><th>Neighborhood</th><th>Condition 1</th><th>Condition 2</th><th>Bldg Type</th><th>House Style</th><th>Overall Qual</th><th>Overall Cond</th><th>Year Built</th><th>Year Remod/Add</th><th>Roof Style</th><th>Roof Matl</th><th>Exterior 1st</th><th>Exterior 2nd</th><th>Mas Vnr Type</th><th>Mas Vnr Area</th><th>Exter Qual</th><th>Exter Cond</th><th>Foundation</th><th>Bsmt Qual</th><th>Bsmt Cond</th><th>Bsmt Exposure</th><th>BsmtFin Type 1</th><th>BsmtFin SF 1</th><th>&hellip;</th><th>2nd Flr SF</th><th>Low Qual Fin SF</th><th>Gr Liv Area</th><th>Bsmt Full Bath</th><th>Bsmt Half Bath</th><th>Full Bath</th><th>Half Bath</th><th>Bedroom AbvGr</th><th>Kitchen AbvGr</th><th>Kitchen Qual</th><th>TotRms AbvGrd</th><th>Functional</th><th>Fireplaces</th><th>Fireplace Qu</th><th>Garage Type</th><th>Garage Yr Blt</th><th>Garage Finish</th><th>Garage Cars</th><th>Garage Area</th><th>Garage Qual</th><th>Garage Cond</th><th>Paved Drive</th><th>Wood Deck SF</th><th>Open Porch SF</th><th>Enclosed Porch</th><th>3Ssn Porch</th><th>Screen Porch</th><th>Pool Area</th><th>Pool QC</th><th>Fence</th><th>Misc Feature</th><th>Misc Val</th><th>Mo Sold</th><th>Yr Sold</th><th>Sale Type</th><th>Sale Condition</th><th>SalePrice</th></tr><tr><td>str</td><td>f64</td><td>f64</td><td>f64</td><td>str</td><td>f64</td><td>f64</td><td>str</td><td>str</td><td>str</td><td>str</td><td>str</td><td>str</td><td>str</td><td>str</td><td>str</td><td>str</td><td>str</td><td>str</td><td>f64</td><td>f64</td><td>f64</td><td>f64</td><td>str</td><td>str</td><td>str</td><td>str</td><td>str</td><td>f64</td><td>str</td><td>str</td><td>str</td><td>str</td><td>str</td><td>str</td><td>str</td><td>f64</td><td>&hellip;</td><td>f64</td><td>f64</td><td>f64</td><td>f64</td><td>f64</td><td>f64</td><td>f64</td><td>f64</td><td>f64</td><td>str</td><td>f64</td><td>str</td><td>f64</td><td>str</td><td>str</td><td>f64</td><td>str</td><td>f64</td><td>f64</td><td>str</td><td>str</td><td>str</td><td>f64</td><td>f64</td><td>f64</td><td>f64</td><td>f64</td><td>f64</td><td>str</td><td>str</td><td>str</td><td>f64</td><td>f64</td><td>f64</td><td>str</td><td>str</td><td>f64</td></tr></thead><tbody><tr><td>&quot;count&quot;</td><td>2930.0</td><td>2930.0</td><td>2930.0</td><td>&quot;2930&quot;</td><td>2440.0</td><td>2930.0</td><td>&quot;2930&quot;</td><td>&quot;2930&quot;</td><td>&quot;2930&quot;</td><td>&quot;2930&quot;</td><td>&quot;2930&quot;</td><td>&quot;2930&quot;</td><td>&quot;2930&quot;</td><td>&quot;2930&quot;</td><td>&quot;2930&quot;</td><td>&quot;2930&quot;</td><td>&quot;2930&quot;</td><td>&quot;2930&quot;</td><td>2930.0</td><td>2930.0</td><td>2930.0</td><td>2930.0</td><td>&quot;2930&quot;</td><td>&quot;2930&quot;</td><td>&quot;2930&quot;</td><td>&quot;2930&quot;</td><td>&quot;2907&quot;</td><td>2907.0</td><td>&quot;2930&quot;</td><td>&quot;2930&quot;</td><td>&quot;2930&quot;</td><td>&quot;2929&quot;</td><td>&quot;2929&quot;</td><td>&quot;2926&quot;</td><td>&quot;2929&quot;</td><td>2929.0</td><td>&hellip;</td><td>2930.0</td><td>2930.0</td><td>2930.0</td><td>2928.0</td><td>2928.0</td><td>2930.0</td><td>2930.0</td><td>2930.0</td><td>2930.0</td><td>&quot;2930&quot;</td><td>2930.0</td><td>&quot;2930&quot;</td><td>2930.0</td><td>&quot;2930&quot;</td><td>&quot;2930&quot;</td><td>2771.0</td><td>&quot;2928&quot;</td><td>2929.0</td><td>2929.0</td><td>&quot;2929&quot;</td><td>&quot;2929&quot;</td><td>&quot;2930&quot;</td><td>2930.0</td><td>2930.0</td><td>2930.0</td><td>2930.0</td><td>2930.0</td><td>2930.0</td><td>&quot;2930&quot;</td><td>&quot;2930&quot;</td><td>&quot;2930&quot;</td><td>2930.0</td><td>2930.0</td><td>2930.0</td><td>&quot;2930&quot;</td><td>&quot;2930&quot;</td><td>2930.0</td></tr><tr><td>&quot;null_count&quot;</td><td>0.0</td><td>0.0</td><td>0.0</td><td>&quot;0&quot;</td><td>490.0</td><td>0.0</td><td>&quot;0&quot;</td><td>&quot;0&quot;</td><td>&quot;0&quot;</td><td>&quot;0&quot;</td><td>&quot;0&quot;</td><td>&quot;0&quot;</td><td>&quot;0&quot;</td><td>&quot;0&quot;</td><td>&quot;0&quot;</td><td>&quot;0&quot;</td><td>&quot;0&quot;</td><td>&quot;0&quot;</td><td>0.0</td><td>0.0</td><td>0.0</td><td>0.0</td><td>&quot;0&quot;</td><td>&quot;0&quot;</td><td>&quot;0&quot;</td><td>&quot;0&quot;</td><td>&quot;23&quot;</td><td>23.0</td><td>&quot;0&quot;</td><td>&quot;0&quot;</td><td>&quot;0&quot;</td><td>&quot;1&quot;</td><td>&quot;1&quot;</td><td>&quot;4&quot;</td><td>&quot;1&quot;</td><td>1.0</td><td>&hellip;</td><td>0.0</td><td>0.0</td><td>0.0</td><td>2.0</td><td>2.0</td><td>0.0</td><td>0.0</td><td>0.0</td><td>0.0</td><td>&quot;0&quot;</td><td>0.0</td><td>&quot;0&quot;</td><td>0.0</td><td>&quot;0&quot;</td><td>&quot;0&quot;</td><td>159.0</td><td>&quot;2&quot;</td><td>1.0</td><td>1.0</td><td>&quot;1&quot;</td><td>&quot;1&quot;</td><td>&quot;0&quot;</td><td>0.0</td><td>0.0</td><td>0.0</td><td>0.0</td><td>0.0</td><td>0.0</td><td>&quot;0&quot;</td><td>&quot;0&quot;</td><td>&quot;0&quot;</td><td>0.0</td><td>0.0</td><td>0.0</td><td>&quot;0&quot;</td><td>&quot;0&quot;</td><td>0.0</td></tr><tr><td>&quot;mean&quot;</td><td>1465.5</td><td>7.1446e8</td><td>57.387372</td><td>null</td><td>69.22459</td><td>10147.921843</td><td>null</td><td>null</td><td>null</td><td>null</td><td>null</td><td>null</td><td>null</td><td>null</td><td>null</td><td>null</td><td>null</td><td>null</td><td>6.094881</td><td>5.56314</td><td>1971.356314</td><td>1984.266553</td><td>null</td><td>null</td><td>null</td><td>null</td><td>null</td><td>101.896801</td><td>null</td><td>null</td><td>null</td><td>null</td><td>null</td><td>null</td><td>null</td><td>442.629566</td><td>&hellip;</td><td>335.455973</td><td>4.676792</td><td>1499.690444</td><td>0.431352</td><td>0.061134</td><td>1.566553</td><td>0.379522</td><td>2.854266</td><td>1.044369</td><td>null</td><td>6.443003</td><td>null</td><td>0.599317</td><td>null</td><td>null</td><td>1978.132443</td><td>null</td><td>1.766815</td><td>472.819734</td><td>null</td><td>null</td><td>null</td><td>93.751877</td><td>47.533447</td><td>23.011604</td><td>2.592491</td><td>16.002048</td><td>2.243345</td><td>null</td><td>null</td><td>null</td><td>50.635154</td><td>6.216041</td><td>2007.790444</td><td>null</td><td>null</td><td>180796.060068</td></tr><tr><td>&quot;std&quot;</td><td>845.96247</td><td>1.8873e8</td><td>42.638025</td><td>null</td><td>23.365335</td><td>7880.017759</td><td>null</td><td>null</td><td>null</td><td>null</td><td>null</td><td>null</td><td>null</td><td>null</td><td>null</td><td>null</td><td>null</td><td>null</td><td>1.411026</td><td>1.111537</td><td>30.245361</td><td>20.860286</td><td>null</td><td>null</td><td>null</td><td>null</td><td>null</td><td>179.112611</td><td>null</td><td>null</td><td>null</td><td>null</td><td>null</td><td>null</td><td>null</td><td>455.590839</td><td>&hellip;</td><td>428.395715</td><td>46.31051</td><td>505.508887</td><td>0.52482</td><td>0.245254</td><td>0.552941</td><td>0.502629</td><td>0.827731</td><td>0.214076</td><td>null</td><td>1.572964</td><td>null</td><td>0.647921</td><td>null</td><td>null</td><td>25.528411</td><td>null</td><td>0.760566</td><td>215.046549</td><td>null</td><td>null</td><td>null</td><td>126.361562</td><td>67.4834</td><td>64.139059</td><td>25.141331</td><td>56.08737</td><td>35.597181</td><td>null</td><td>null</td><td>null</td><td>566.344288</td><td>2.714492</td><td>1.316613</td><td>null</td><td>null</td><td>79886.692357</td></tr><tr><td>&quot;min&quot;</td><td>1.0</td><td>5.263011e8</td><td>20.0</td><td>&quot;A (agr)&quot;</td><td>21.0</td><td>1300.0</td><td>&quot;Grvl&quot;</td><td>&quot;Grvl&quot;</td><td>&quot;IR1&quot;</td><td>&quot;Bnk&quot;</td><td>&quot;AllPub&quot;</td><td>&quot;Corner&quot;</td><td>&quot;Gtl&quot;</td><td>&quot;Blmngtn&quot;</td><td>&quot;Artery&quot;</td><td>&quot;Artery&quot;</td><td>&quot;1Fam&quot;</td><td>&quot;1.5Fin&quot;</td><td>1.0</td><td>1.0</td><td>1872.0</td><td>1950.0</td><td>&quot;Flat&quot;</td><td>&quot;ClyTile&quot;</td><td>&quot;AsbShng&quot;</td><td>&quot;AsbShng&quot;</td><td>&quot;BrkCmn&quot;</td><td>0.0</td><td>&quot;Ex&quot;</td><td>&quot;Ex&quot;</td><td>&quot;BrkTil&quot;</td><td>&quot;Ex&quot;</td><td>&quot;Ex&quot;</td><td>&quot;Av&quot;</td><td>&quot;ALQ&quot;</td><td>0.0</td><td>&hellip;</td><td>0.0</td><td>0.0</td><td>334.0</td><td>0.0</td><td>0.0</td><td>0.0</td><td>0.0</td><td>0.0</td><td>0.0</td><td>&quot;Ex&quot;</td><td>2.0</td><td>&quot;Maj1&quot;</td><td>0.0</td><td>&quot;Ex&quot;</td><td>&quot;2Types&quot;</td><td>1895.0</td><td>&quot;Fin&quot;</td><td>0.0</td><td>0.0</td><td>&quot;Ex&quot;</td><td>&quot;Ex&quot;</td><td>&quot;N&quot;</td><td>0.0</td><td>0.0</td><td>0.0</td><td>0.0</td><td>0.0</td><td>0.0</td><td>&quot;Ex&quot;</td><td>&quot;GdPrv&quot;</td><td>&quot;Elev&quot;</td><td>0.0</td><td>1.0</td><td>2006.0</td><td>&quot;COD&quot;</td><td>&quot;Abnorml&quot;</td><td>12789.0</td></tr><tr><td>&quot;25%&quot;</td><td>733.0</td><td>5.2847702e8</td><td>20.0</td><td>null</td><td>58.0</td><td>7440.0</td><td>null</td><td>null</td><td>null</td><td>null</td><td>null</td><td>null</td><td>null</td><td>null</td><td>null</td><td>null</td><td>null</td><td>null</td><td>5.0</td><td>5.0</td><td>1954.0</td><td>1965.0</td><td>null</td><td>null</td><td>null</td><td>null</td><td>null</td><td>0.0</td><td>null</td><td>null</td><td>null</td><td>null</td><td>null</td><td>null</td><td>null</td><td>0.0</td><td>&hellip;</td><td>0.0</td><td>0.0</td><td>1126.0</td><td>0.0</td><td>0.0</td><td>1.0</td><td>0.0</td><td>2.0</td><td>1.0</td><td>null</td><td>5.0</td><td>null</td><td>0.0</td><td>null</td><td>null</td><td>1960.0</td><td>null</td><td>1.0</td><td>320.0</td><td>null</td><td>null</td><td>null</td><td>0.0</td><td>0.0</td><td>0.0</td><td>0.0</td><td>0.0</td><td>0.0</td><td>null</td><td>null</td><td>null</td><td>0.0</td><td>4.0</td><td>2007.0</td><td>null</td><td>null</td><td>129500.0</td></tr><tr><td>&quot;50%&quot;</td><td>1466.0</td><td>5.3545403e8</td><td>50.0</td><td>null</td><td>68.0</td><td>9439.0</td><td>null</td><td>null</td><td>null</td><td>null</td><td>null</td><td>null</td><td>null</td><td>null</td><td>null</td><td>null</td><td>null</td><td>null</td><td>6.0</td><td>5.0</td><td>1973.0</td><td>1993.0</td><td>null</td><td>null</td><td>null</td><td>null</td><td>null</td><td>0.0</td><td>null</td><td>null</td><td>null</td><td>null</td><td>null</td><td>null</td><td>null</td><td>370.0</td><td>&hellip;</td><td>0.0</td><td>0.0</td><td>1442.0</td><td>0.0</td><td>0.0</td><td>2.0</td><td>0.0</td><td>3.0</td><td>1.0</td><td>null</td><td>6.0</td><td>null</td><td>1.0</td><td>null</td><td>null</td><td>1979.0</td><td>null</td><td>2.0</td><td>480.0</td><td>null</td><td>null</td><td>null</td><td>0.0</td><td>27.0</td><td>0.0</td><td>0.0</td><td>0.0</td><td>0.0</td><td>null</td><td>null</td><td>null</td><td>0.0</td><td>6.0</td><td>2008.0</td><td>null</td><td>null</td><td>160000.0</td></tr><tr><td>&quot;75%&quot;</td><td>2198.0</td><td>9.071811e8</td><td>70.0</td><td>null</td><td>80.0</td><td>11556.0</td><td>null</td><td>null</td><td>null</td><td>null</td><td>null</td><td>null</td><td>null</td><td>null</td><td>null</td><td>null</td><td>null</td><td>null</td><td>7.0</td><td>6.0</td><td>2001.0</td><td>2004.0</td><td>null</td><td>null</td><td>null</td><td>null</td><td>null</td><td>164.0</td><td>null</td><td>null</td><td>null</td><td>null</td><td>null</td><td>null</td><td>null</td><td>734.0</td><td>&hellip;</td><td>704.0</td><td>0.0</td><td>1743.0</td><td>1.0</td><td>0.0</td><td>2.0</td><td>1.0</td><td>3.0</td><td>1.0</td><td>null</td><td>7.0</td><td>null</td><td>1.0</td><td>null</td><td>null</td><td>2002.0</td><td>null</td><td>2.0</td><td>576.0</td><td>null</td><td>null</td><td>null</td><td>168.0</td><td>70.0</td><td>0.0</td><td>0.0</td><td>0.0</td><td>0.0</td><td>null</td><td>null</td><td>null</td><td>0.0</td><td>8.0</td><td>2009.0</td><td>null</td><td>null</td><td>213500.0</td></tr><tr><td>&quot;max&quot;</td><td>2930.0</td><td>1.0071e9</td><td>190.0</td><td>&quot;RM&quot;</td><td>313.0</td><td>215245.0</td><td>&quot;Pave&quot;</td><td>&quot;Pave&quot;</td><td>&quot;Reg&quot;</td><td>&quot;Lvl&quot;</td><td>&quot;NoSewr&quot;</td><td>&quot;Inside&quot;</td><td>&quot;Sev&quot;</td><td>&quot;Veenker&quot;</td><td>&quot;RRNn&quot;</td><td>&quot;RRNn&quot;</td><td>&quot;TwnhsE&quot;</td><td>&quot;SLvl&quot;</td><td>10.0</td><td>9.0</td><td>2010.0</td><td>2010.0</td><td>&quot;Shed&quot;</td><td>&quot;WdShngl&quot;</td><td>&quot;WdShing&quot;</td><td>&quot;Wd Shng&quot;</td><td>&quot;Stone&quot;</td><td>1600.0</td><td>&quot;TA&quot;</td><td>&quot;TA&quot;</td><td>&quot;Wood&quot;</td><td>&quot;TA&quot;</td><td>&quot;TA&quot;</td><td>&quot;No&quot;</td><td>&quot;Unf&quot;</td><td>5644.0</td><td>&hellip;</td><td>2065.0</td><td>1064.0</td><td>5642.0</td><td>3.0</td><td>2.0</td><td>4.0</td><td>2.0</td><td>8.0</td><td>3.0</td><td>&quot;TA&quot;</td><td>15.0</td><td>&quot;Typ&quot;</td><td>4.0</td><td>&quot;TA&quot;</td><td>&quot;NA&quot;</td><td>2207.0</td><td>&quot;Unf&quot;</td><td>5.0</td><td>1488.0</td><td>&quot;TA&quot;</td><td>&quot;TA&quot;</td><td>&quot;Y&quot;</td><td>1424.0</td><td>742.0</td><td>1012.0</td><td>508.0</td><td>576.0</td><td>800.0</td><td>&quot;TA&quot;</td><td>&quot;NA&quot;</td><td>&quot;TenC&quot;</td><td>17000.0</td><td>12.0</td><td>2010.0</td><td>&quot;WD &quot;</td><td>&quot;Partial&quot;</td><td>755000.0</td></tr></tbody></table></div>"
      ],
      "text/plain": [
       "shape: (9, 83)\n",
       "┌────────────┬────────────┬────────────┬────────────┬───┬───────────┬──────┬───────────┬───────────┐\n",
       "│ statistic  ┆ Order      ┆ PID        ┆ MS         ┆ … ┆ Yr Sold   ┆ Sale ┆ Sale      ┆ SalePrice │\n",
       "│ ---        ┆ ---        ┆ ---        ┆ SubClass   ┆   ┆ ---       ┆ Type ┆ Condition ┆ ---       │\n",
       "│ str        ┆ f64        ┆ f64        ┆ ---        ┆   ┆ f64       ┆ ---  ┆ ---       ┆ f64       │\n",
       "│            ┆            ┆            ┆ f64        ┆   ┆           ┆ str  ┆ str       ┆           │\n",
       "╞════════════╪════════════╪════════════╪════════════╪═══╪═══════════╪══════╪═══════════╪═══════════╡\n",
       "│ count      ┆ 2930.0     ┆ 2930.0     ┆ 2930.0     ┆ … ┆ 2930.0    ┆ 2930 ┆ 2930      ┆ 2930.0    │\n",
       "│ null_count ┆ 0.0        ┆ 0.0        ┆ 0.0        ┆ … ┆ 0.0       ┆ 0    ┆ 0         ┆ 0.0       │\n",
       "│ mean       ┆ 1465.5     ┆ 7.1446e8   ┆ 57.387372  ┆ … ┆ 2007.7904 ┆ null ┆ null      ┆ 180796.06 │\n",
       "│            ┆            ┆            ┆            ┆   ┆ 44        ┆      ┆           ┆ 0068      │\n",
       "│ std        ┆ 845.96247  ┆ 1.8873e8   ┆ 42.638025  ┆ … ┆ 1.316613  ┆ null ┆ null      ┆ 79886.692 │\n",
       "│            ┆            ┆            ┆            ┆   ┆           ┆      ┆           ┆ 357       │\n",
       "│ min        ┆ 1.0        ┆ 5.263011e8 ┆ 20.0       ┆ … ┆ 2006.0    ┆ COD  ┆ Abnorml   ┆ 12789.0   │\n",
       "│ 25%        ┆ 733.0      ┆ 5.2847702e ┆ 20.0       ┆ … ┆ 2007.0    ┆ null ┆ null      ┆ 129500.0  │\n",
       "│            ┆            ┆ 8          ┆            ┆   ┆           ┆      ┆           ┆           │\n",
       "│ 50%        ┆ 1466.0     ┆ 5.3545403e ┆ 50.0       ┆ … ┆ 2008.0    ┆ null ┆ null      ┆ 160000.0  │\n",
       "│            ┆            ┆ 8          ┆            ┆   ┆           ┆      ┆           ┆           │\n",
       "│ 75%        ┆ 2198.0     ┆ 9.071811e8 ┆ 70.0       ┆ … ┆ 2009.0    ┆ null ┆ null      ┆ 213500.0  │\n",
       "│ max        ┆ 2930.0     ┆ 1.0071e9   ┆ 190.0      ┆ … ┆ 2010.0    ┆ WD   ┆ Partial   ┆ 755000.0  │\n",
       "└────────────┴────────────┴────────────┴────────────┴───┴───────────┴──────┴───────────┴───────────┘"
      ]
     },
     "execution_count": 3,
     "metadata": {},
     "output_type": "execute_result"
    }
   ],
   "source": [
    "pl_ames.describe()"
   ]
  },
  {
   "cell_type": "markdown",
   "id": "c9a6b1da",
   "metadata": {},
   "source": [
    "#### exercise 2"
   ]
  },
  {
   "cell_type": "code",
   "execution_count": 4,
   "id": "54d6c7bd",
   "metadata": {},
   "outputs": [],
   "source": [
    "# split dataframe into subsets by type\n",
    "pl_ames_int = pl_ames.select(pl.col(pl.Int64))\n",
    "pl_ames_string = pl_ames.select(pl.col(pl.String))"
   ]
  },
  {
   "cell_type": "code",
   "execution_count": 5,
   "id": "ce2fa33f",
   "metadata": {},
   "outputs": [
    {
     "name": "stdout",
     "output_type": "stream",
     "text": [
      "{String, Int64}\n",
      "Number of int columns: 39, Number of string columns: 43\n"
     ]
    }
   ],
   "source": [
    "# show all distinct types\n",
    "print(set(pl_ames.dtypes))\n",
    "\n",
    "# count number of each type\n",
    "number_int = pl_ames.dtypes.count(pl.Int64)\n",
    "number_string = pl_ames.dtypes.count(pl.String)\n",
    "\n",
    "print(f\"Number of int columns: {number_int}, Number of string columns: {number_string}\")"
   ]
  },
  {
   "cell_type": "code",
   "execution_count": 7,
   "id": "261c3b09",
   "metadata": {},
   "outputs": [
    {
     "data": {
      "text/html": [
       "<div><style>\n",
       ".dataframe > thead > tr,\n",
       ".dataframe > tbody > tr {\n",
       "  text-align: right;\n",
       "  white-space: pre-wrap;\n",
       "}\n",
       "</style>\n",
       "<small>shape: (2, 21)</small><table border=\"1\" class=\"dataframe\"><thead><tr><th>column_0</th><th>column_1</th><th>column_2</th><th>column_3</th><th>column_4</th><th>column_5</th><th>column_6</th><th>column_7</th><th>column_8</th><th>column_9</th><th>column_10</th><th>column_11</th><th>column_12</th><th>column_13</th><th>column_14</th><th>column_15</th><th>column_16</th><th>column_17</th><th>column_18</th><th>column_19</th><th>column_20</th></tr><tr><td>str</td><td>str</td><td>str</td><td>str</td><td>str</td><td>str</td><td>str</td><td>str</td><td>str</td><td>str</td><td>str</td><td>str</td><td>str</td><td>str</td><td>str</td><td>str</td><td>str</td><td>str</td><td>str</td><td>str</td><td>str</td></tr></thead><tbody><tr><td>&quot;Lot Frontage&quot;</td><td>&quot;Mas Vnr Type&quot;</td><td>&quot;Mas Vnr Area&quot;</td><td>&quot;Bsmt Qual&quot;</td><td>&quot;Bsmt Cond&quot;</td><td>&quot;Bsmt Exposure&quot;</td><td>&quot;BsmtFin Type 1&quot;</td><td>&quot;BsmtFin SF 1&quot;</td><td>&quot;BsmtFin Type 2&quot;</td><td>&quot;BsmtFin SF 2&quot;</td><td>&quot;Bsmt Unf SF&quot;</td><td>&quot;Total Bsmt SF&quot;</td><td>&quot;Electrical&quot;</td><td>&quot;Bsmt Full Bath&quot;</td><td>&quot;Bsmt Half Bath&quot;</td><td>&quot;Garage Yr Blt&quot;</td><td>&quot;Garage Finish&quot;</td><td>&quot;Garage Cars&quot;</td><td>&quot;Garage Area&quot;</td><td>&quot;Garage Qual&quot;</td><td>&quot;Garage Cond&quot;</td></tr><tr><td>&quot;490&quot;</td><td>&quot;23&quot;</td><td>&quot;23&quot;</td><td>&quot;1&quot;</td><td>&quot;1&quot;</td><td>&quot;4&quot;</td><td>&quot;1&quot;</td><td>&quot;1&quot;</td><td>&quot;2&quot;</td><td>&quot;1&quot;</td><td>&quot;1&quot;</td><td>&quot;1&quot;</td><td>&quot;1&quot;</td><td>&quot;2&quot;</td><td>&quot;2&quot;</td><td>&quot;159&quot;</td><td>&quot;2&quot;</td><td>&quot;1&quot;</td><td>&quot;1&quot;</td><td>&quot;1&quot;</td><td>&quot;1&quot;</td></tr></tbody></table></div>"
      ],
      "text/plain": [
       "shape: (2, 21)\n",
       "┌───────────┬───────────┬───────────┬───────────┬───┬───────────┬───────────┬───────────┬──────────┐\n",
       "│ column_0  ┆ column_1  ┆ column_2  ┆ column_3  ┆ … ┆ column_17 ┆ column_18 ┆ column_19 ┆ column_2 │\n",
       "│ ---       ┆ ---       ┆ ---       ┆ ---       ┆   ┆ ---       ┆ ---       ┆ ---       ┆ 0        │\n",
       "│ str       ┆ str       ┆ str       ┆ str       ┆   ┆ str       ┆ str       ┆ str       ┆ ---      │\n",
       "│           ┆           ┆           ┆           ┆   ┆           ┆           ┆           ┆ str      │\n",
       "╞═══════════╪═══════════╪═══════════╪═══════════╪═══╪═══════════╪═══════════╪═══════════╪══════════╡\n",
       "│ Lot       ┆ Mas Vnr   ┆ Mas Vnr   ┆ Bsmt Qual ┆ … ┆ Garage    ┆ Garage    ┆ Garage    ┆ Garage   │\n",
       "│ Frontage  ┆ Type      ┆ Area      ┆           ┆   ┆ Cars      ┆ Area      ┆ Qual      ┆ Cond     │\n",
       "│ 490       ┆ 23        ┆ 23        ┆ 1         ┆ … ┆ 1         ┆ 1         ┆ 1         ┆ 1        │\n",
       "└───────────┴───────────┴───────────┴───────────┴───┴───────────┴───────────┴───────────┴──────────┘"
      ]
     },
     "execution_count": 7,
     "metadata": {},
     "output_type": "execute_result"
    }
   ],
   "source": [
    "# find all columns with missing values, and show how many\n",
    "pl_ames.null_count().transpose(include_header=True).filter(pl.col(\"column_0\") > 0).transpose()"
   ]
  },
  {
   "cell_type": "code",
   "execution_count": 8,
   "id": "61617ac2",
   "metadata": {},
   "outputs": [
    {
     "data": {
      "text/plain": [
       "False"
      ]
     },
     "execution_count": 8,
     "metadata": {},
     "output_type": "execute_result"
    }
   ],
   "source": [
    "# is sales price complete\n",
    "pl_ames[\"SalePrice\"].is_null().any()"
   ]
  },
  {
   "cell_type": "code",
   "execution_count": 9,
   "id": "e9c803c8",
   "metadata": {},
   "outputs": [],
   "source": [
    "pd_ames = pd.read_csv(\"../AmesHousing.csv\")\n",
    "pd_xlsx = pd.read_excel(\"../Neighborhood_names.xlsx\")"
   ]
  },
  {
   "cell_type": "code",
   "execution_count": null,
   "id": "4db7e3b6",
   "metadata": {},
   "outputs": [
    {
     "data": {
      "application/vnd.microsoft.datawrangler.viewer.v0+json": {
       "columns": [
        {
         "name": "index",
         "rawType": "object",
         "type": "string"
        },
        {
         "name": "0",
         "rawType": "int64",
         "type": "integer"
        }
       ],
       "ref": "aad0dfbb-6b72-4443-aa59-761e6f64df09",
       "rows": [
        [
         "Order",
         "0"
        ],
        [
         "PID",
         "0"
        ],
        [
         "MS SubClass",
         "0"
        ],
        [
         "MS Zoning",
         "0"
        ],
        [
         "Lot Frontage",
         "490"
        ],
        [
         "Lot Area",
         "0"
        ],
        [
         "Street",
         "0"
        ],
        [
         "Alley",
         "2732"
        ],
        [
         "Lot Shape",
         "0"
        ],
        [
         "Land Contour",
         "0"
        ],
        [
         "Utilities",
         "0"
        ],
        [
         "Lot Config",
         "0"
        ],
        [
         "Land Slope",
         "0"
        ],
        [
         "Neighborhood",
         "0"
        ],
        [
         "Condition 1",
         "0"
        ],
        [
         "Condition 2",
         "0"
        ],
        [
         "Bldg Type",
         "0"
        ],
        [
         "House Style",
         "0"
        ],
        [
         "Overall Qual",
         "0"
        ],
        [
         "Overall Cond",
         "0"
        ],
        [
         "Year Built",
         "0"
        ],
        [
         "Year Remod/Add",
         "0"
        ],
        [
         "Roof Style",
         "0"
        ],
        [
         "Roof Matl",
         "0"
        ],
        [
         "Exterior 1st",
         "0"
        ],
        [
         "Exterior 2nd",
         "0"
        ],
        [
         "Mas Vnr Type",
         "1775"
        ],
        [
         "Mas Vnr Area",
         "23"
        ],
        [
         "Exter Qual",
         "0"
        ],
        [
         "Exter Cond",
         "0"
        ],
        [
         "Foundation",
         "0"
        ],
        [
         "Bsmt Qual",
         "80"
        ],
        [
         "Bsmt Cond",
         "80"
        ],
        [
         "Bsmt Exposure",
         "83"
        ],
        [
         "BsmtFin Type 1",
         "80"
        ],
        [
         "BsmtFin SF 1",
         "1"
        ],
        [
         "BsmtFin Type 2",
         "81"
        ],
        [
         "BsmtFin SF 2",
         "1"
        ],
        [
         "Bsmt Unf SF",
         "1"
        ],
        [
         "Total Bsmt SF",
         "1"
        ],
        [
         "Heating",
         "0"
        ],
        [
         "Heating QC",
         "0"
        ],
        [
         "Central Air",
         "0"
        ],
        [
         "Electrical",
         "1"
        ],
        [
         "1st Flr SF",
         "0"
        ],
        [
         "2nd Flr SF",
         "0"
        ],
        [
         "Low Qual Fin SF",
         "0"
        ],
        [
         "Gr Liv Area",
         "0"
        ],
        [
         "Bsmt Full Bath",
         "2"
        ],
        [
         "Bsmt Half Bath",
         "2"
        ]
       ],
       "shape": {
        "columns": 1,
        "rows": 82
       }
      },
      "text/plain": [
       "Order               0\n",
       "PID                 0\n",
       "MS SubClass         0\n",
       "MS Zoning           0\n",
       "Lot Frontage      490\n",
       "                 ... \n",
       "Mo Sold             0\n",
       "Yr Sold             0\n",
       "Sale Type           0\n",
       "Sale Condition      0\n",
       "SalePrice           0\n",
       "Length: 82, dtype: int64"
      ]
     },
     "execution_count": 21,
     "metadata": {},
     "output_type": "execute_result"
    }
   ],
   "source": [
    "pd_ames.isnull().sum()"
   ]
  },
  {
   "cell_type": "code",
   "execution_count": 24,
   "id": "16d4cce8",
   "metadata": {},
   "outputs": [
    {
     "data": {
      "text/html": [
       "<div><style>\n",
       ".dataframe > thead > tr,\n",
       ".dataframe > tbody > tr {\n",
       "  text-align: right;\n",
       "  white-space: pre-wrap;\n",
       "}\n",
       "</style>\n",
       "<small>shape: (9, 40)</small><table border=\"1\" class=\"dataframe\"><thead><tr><th>statistic</th><th>Order</th><th>PID</th><th>MS SubClass</th><th>Lot Frontage</th><th>Lot Area</th><th>Overall Qual</th><th>Overall Cond</th><th>Year Built</th><th>Year Remod/Add</th><th>Mas Vnr Area</th><th>BsmtFin SF 1</th><th>BsmtFin SF 2</th><th>Bsmt Unf SF</th><th>Total Bsmt SF</th><th>1st Flr SF</th><th>2nd Flr SF</th><th>Low Qual Fin SF</th><th>Gr Liv Area</th><th>Bsmt Full Bath</th><th>Bsmt Half Bath</th><th>Full Bath</th><th>Half Bath</th><th>Bedroom AbvGr</th><th>Kitchen AbvGr</th><th>TotRms AbvGrd</th><th>Fireplaces</th><th>Garage Yr Blt</th><th>Garage Cars</th><th>Garage Area</th><th>Wood Deck SF</th><th>Open Porch SF</th><th>Enclosed Porch</th><th>3Ssn Porch</th><th>Screen Porch</th><th>Pool Area</th><th>Misc Val</th><th>Mo Sold</th><th>Yr Sold</th><th>SalePrice</th></tr><tr><td>str</td><td>f64</td><td>f64</td><td>f64</td><td>f64</td><td>f64</td><td>f64</td><td>f64</td><td>f64</td><td>f64</td><td>f64</td><td>f64</td><td>f64</td><td>f64</td><td>f64</td><td>f64</td><td>f64</td><td>f64</td><td>f64</td><td>f64</td><td>f64</td><td>f64</td><td>f64</td><td>f64</td><td>f64</td><td>f64</td><td>f64</td><td>f64</td><td>f64</td><td>f64</td><td>f64</td><td>f64</td><td>f64</td><td>f64</td><td>f64</td><td>f64</td><td>f64</td><td>f64</td><td>f64</td><td>f64</td></tr></thead><tbody><tr><td>&quot;count&quot;</td><td>2930.0</td><td>2930.0</td><td>2930.0</td><td>2440.0</td><td>2930.0</td><td>2930.0</td><td>2930.0</td><td>2930.0</td><td>2930.0</td><td>2907.0</td><td>2929.0</td><td>2929.0</td><td>2929.0</td><td>2929.0</td><td>2930.0</td><td>2930.0</td><td>2930.0</td><td>2930.0</td><td>2928.0</td><td>2928.0</td><td>2930.0</td><td>2930.0</td><td>2930.0</td><td>2930.0</td><td>2930.0</td><td>2930.0</td><td>2771.0</td><td>2929.0</td><td>2929.0</td><td>2930.0</td><td>2930.0</td><td>2930.0</td><td>2930.0</td><td>2930.0</td><td>2930.0</td><td>2930.0</td><td>2930.0</td><td>2930.0</td><td>2930.0</td></tr><tr><td>&quot;null_count&quot;</td><td>0.0</td><td>0.0</td><td>0.0</td><td>490.0</td><td>0.0</td><td>0.0</td><td>0.0</td><td>0.0</td><td>0.0</td><td>23.0</td><td>1.0</td><td>1.0</td><td>1.0</td><td>1.0</td><td>0.0</td><td>0.0</td><td>0.0</td><td>0.0</td><td>2.0</td><td>2.0</td><td>0.0</td><td>0.0</td><td>0.0</td><td>0.0</td><td>0.0</td><td>0.0</td><td>159.0</td><td>1.0</td><td>1.0</td><td>0.0</td><td>0.0</td><td>0.0</td><td>0.0</td><td>0.0</td><td>0.0</td><td>0.0</td><td>0.0</td><td>0.0</td><td>0.0</td></tr><tr><td>&quot;mean&quot;</td><td>1465.5</td><td>7.1446e8</td><td>57.387372</td><td>69.22459</td><td>10147.921843</td><td>6.094881</td><td>5.56314</td><td>1971.356314</td><td>1984.266553</td><td>101.896801</td><td>442.629566</td><td>49.722431</td><td>559.262547</td><td>1051.614544</td><td>1159.557679</td><td>335.455973</td><td>4.676792</td><td>1499.690444</td><td>0.431352</td><td>0.061134</td><td>1.566553</td><td>0.379522</td><td>2.854266</td><td>1.044369</td><td>6.443003</td><td>0.599317</td><td>1978.132443</td><td>1.766815</td><td>472.819734</td><td>93.751877</td><td>47.533447</td><td>23.011604</td><td>2.592491</td><td>16.002048</td><td>2.243345</td><td>50.635154</td><td>6.216041</td><td>2007.790444</td><td>180796.060068</td></tr><tr><td>&quot;std&quot;</td><td>845.96247</td><td>1.8873e8</td><td>42.638025</td><td>23.365335</td><td>7880.017759</td><td>1.411026</td><td>1.111537</td><td>30.245361</td><td>20.860286</td><td>179.112611</td><td>455.590839</td><td>169.168476</td><td>439.494153</td><td>440.615067</td><td>391.890885</td><td>428.395715</td><td>46.31051</td><td>505.508887</td><td>0.52482</td><td>0.245254</td><td>0.552941</td><td>0.502629</td><td>0.827731</td><td>0.214076</td><td>1.572964</td><td>0.647921</td><td>25.528411</td><td>0.760566</td><td>215.046549</td><td>126.361562</td><td>67.4834</td><td>64.139059</td><td>25.141331</td><td>56.08737</td><td>35.597181</td><td>566.344288</td><td>2.714492</td><td>1.316613</td><td>79886.692357</td></tr><tr><td>&quot;min&quot;</td><td>1.0</td><td>5.263011e8</td><td>20.0</td><td>21.0</td><td>1300.0</td><td>1.0</td><td>1.0</td><td>1872.0</td><td>1950.0</td><td>0.0</td><td>0.0</td><td>0.0</td><td>0.0</td><td>0.0</td><td>334.0</td><td>0.0</td><td>0.0</td><td>334.0</td><td>0.0</td><td>0.0</td><td>0.0</td><td>0.0</td><td>0.0</td><td>0.0</td><td>2.0</td><td>0.0</td><td>1895.0</td><td>0.0</td><td>0.0</td><td>0.0</td><td>0.0</td><td>0.0</td><td>0.0</td><td>0.0</td><td>0.0</td><td>0.0</td><td>1.0</td><td>2006.0</td><td>12789.0</td></tr><tr><td>&quot;25%&quot;</td><td>733.0</td><td>5.2847702e8</td><td>20.0</td><td>58.0</td><td>7440.0</td><td>5.0</td><td>5.0</td><td>1954.0</td><td>1965.0</td><td>0.0</td><td>0.0</td><td>0.0</td><td>219.0</td><td>793.0</td><td>876.0</td><td>0.0</td><td>0.0</td><td>1126.0</td><td>0.0</td><td>0.0</td><td>1.0</td><td>0.0</td><td>2.0</td><td>1.0</td><td>5.0</td><td>0.0</td><td>1960.0</td><td>1.0</td><td>320.0</td><td>0.0</td><td>0.0</td><td>0.0</td><td>0.0</td><td>0.0</td><td>0.0</td><td>0.0</td><td>4.0</td><td>2007.0</td><td>129500.0</td></tr><tr><td>&quot;50%&quot;</td><td>1466.0</td><td>5.3545403e8</td><td>50.0</td><td>68.0</td><td>9439.0</td><td>6.0</td><td>5.0</td><td>1973.0</td><td>1993.0</td><td>0.0</td><td>370.0</td><td>0.0</td><td>466.0</td><td>990.0</td><td>1084.0</td><td>0.0</td><td>0.0</td><td>1442.0</td><td>0.0</td><td>0.0</td><td>2.0</td><td>0.0</td><td>3.0</td><td>1.0</td><td>6.0</td><td>1.0</td><td>1979.0</td><td>2.0</td><td>480.0</td><td>0.0</td><td>27.0</td><td>0.0</td><td>0.0</td><td>0.0</td><td>0.0</td><td>0.0</td><td>6.0</td><td>2008.0</td><td>160000.0</td></tr><tr><td>&quot;75%&quot;</td><td>2198.0</td><td>9.071811e8</td><td>70.0</td><td>80.0</td><td>11556.0</td><td>7.0</td><td>6.0</td><td>2001.0</td><td>2004.0</td><td>164.0</td><td>734.0</td><td>0.0</td><td>802.0</td><td>1302.0</td><td>1384.0</td><td>704.0</td><td>0.0</td><td>1743.0</td><td>1.0</td><td>0.0</td><td>2.0</td><td>1.0</td><td>3.0</td><td>1.0</td><td>7.0</td><td>1.0</td><td>2002.0</td><td>2.0</td><td>576.0</td><td>168.0</td><td>70.0</td><td>0.0</td><td>0.0</td><td>0.0</td><td>0.0</td><td>0.0</td><td>8.0</td><td>2009.0</td><td>213500.0</td></tr><tr><td>&quot;max&quot;</td><td>2930.0</td><td>1.0071e9</td><td>190.0</td><td>313.0</td><td>215245.0</td><td>10.0</td><td>9.0</td><td>2010.0</td><td>2010.0</td><td>1600.0</td><td>5644.0</td><td>1526.0</td><td>2336.0</td><td>6110.0</td><td>5095.0</td><td>2065.0</td><td>1064.0</td><td>5642.0</td><td>3.0</td><td>2.0</td><td>4.0</td><td>2.0</td><td>8.0</td><td>3.0</td><td>15.0</td><td>4.0</td><td>2207.0</td><td>5.0</td><td>1488.0</td><td>1424.0</td><td>742.0</td><td>1012.0</td><td>508.0</td><td>576.0</td><td>800.0</td><td>17000.0</td><td>12.0</td><td>2010.0</td><td>755000.0</td></tr></tbody></table></div>"
      ],
      "text/plain": [
       "shape: (9, 40)\n",
       "┌───────────┬───────────┬───────────┬───────────┬───┬───────────┬──────────┬───────────┬───────────┐\n",
       "│ statistic ┆ Order     ┆ PID       ┆ MS        ┆ … ┆ Misc Val  ┆ Mo Sold  ┆ Yr Sold   ┆ SalePrice │\n",
       "│ ---       ┆ ---       ┆ ---       ┆ SubClass  ┆   ┆ ---       ┆ ---      ┆ ---       ┆ ---       │\n",
       "│ str       ┆ f64       ┆ f64       ┆ ---       ┆   ┆ f64       ┆ f64      ┆ f64       ┆ f64       │\n",
       "│           ┆           ┆           ┆ f64       ┆   ┆           ┆          ┆           ┆           │\n",
       "╞═══════════╪═══════════╪═══════════╪═══════════╪═══╪═══════════╪══════════╪═══════════╪═══════════╡\n",
       "│ count     ┆ 2930.0    ┆ 2930.0    ┆ 2930.0    ┆ … ┆ 2930.0    ┆ 2930.0   ┆ 2930.0    ┆ 2930.0    │\n",
       "│ null_coun ┆ 0.0       ┆ 0.0       ┆ 0.0       ┆ … ┆ 0.0       ┆ 0.0      ┆ 0.0       ┆ 0.0       │\n",
       "│ t         ┆           ┆           ┆           ┆   ┆           ┆          ┆           ┆           │\n",
       "│ mean      ┆ 1465.5    ┆ 7.1446e8  ┆ 57.387372 ┆ … ┆ 50.635154 ┆ 6.216041 ┆ 2007.7904 ┆ 180796.06 │\n",
       "│           ┆           ┆           ┆           ┆   ┆           ┆          ┆ 44        ┆ 0068      │\n",
       "│ std       ┆ 845.96247 ┆ 1.8873e8  ┆ 42.638025 ┆ … ┆ 566.34428 ┆ 2.714492 ┆ 1.316613  ┆ 79886.692 │\n",
       "│           ┆           ┆           ┆           ┆   ┆ 8         ┆          ┆           ┆ 357       │\n",
       "│ min       ┆ 1.0       ┆ 5.263011e ┆ 20.0      ┆ … ┆ 0.0       ┆ 1.0      ┆ 2006.0    ┆ 12789.0   │\n",
       "│           ┆           ┆ 8         ┆           ┆   ┆           ┆          ┆           ┆           │\n",
       "│ 25%       ┆ 733.0     ┆ 5.2847702 ┆ 20.0      ┆ … ┆ 0.0       ┆ 4.0      ┆ 2007.0    ┆ 129500.0  │\n",
       "│           ┆           ┆ e8        ┆           ┆   ┆           ┆          ┆           ┆           │\n",
       "│ 50%       ┆ 1466.0    ┆ 5.3545403 ┆ 50.0      ┆ … ┆ 0.0       ┆ 6.0      ┆ 2008.0    ┆ 160000.0  │\n",
       "│           ┆           ┆ e8        ┆           ┆   ┆           ┆          ┆           ┆           │\n",
       "│ 75%       ┆ 2198.0    ┆ 9.071811e ┆ 70.0      ┆ … ┆ 0.0       ┆ 8.0      ┆ 2009.0    ┆ 213500.0  │\n",
       "│           ┆           ┆ 8         ┆           ┆   ┆           ┆          ┆           ┆           │\n",
       "│ max       ┆ 2930.0    ┆ 1.0071e9  ┆ 190.0     ┆ … ┆ 17000.0   ┆ 12.0     ┆ 2010.0    ┆ 755000.0  │\n",
       "└───────────┴───────────┴───────────┴───────────┴───┴───────────┴──────────┴───────────┴───────────┘"
      ]
     },
     "execution_count": 24,
     "metadata": {},
     "output_type": "execute_result"
    }
   ],
   "source": [
    "# construct summary statistics\n",
    "pl_ames_int.describe()"
   ]
  }
 ],
 "metadata": {
  "kernelspec": {
   "display_name": ".venv",
   "language": "python",
   "name": "python3"
  },
  "language_info": {
   "codemirror_mode": {
    "name": "ipython",
    "version": 3
   },
   "file_extension": ".py",
   "mimetype": "text/x-python",
   "name": "python",
   "nbconvert_exporter": "python",
   "pygments_lexer": "ipython3",
   "version": "3.10.11"
  }
 },
 "nbformat": 4,
 "nbformat_minor": 5
}
